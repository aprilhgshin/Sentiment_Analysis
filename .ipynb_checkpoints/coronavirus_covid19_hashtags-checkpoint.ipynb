{
 "cells": [
  {
   "cell_type": "markdown",
   "metadata": {},
   "source": [
    "# Sentiment Analysis of Tweets with Coronavirus/ Covid19 Hashtags\n",
    "April Shin"
   ]
  },
  {
   "cell_type": "markdown",
   "metadata": {},
   "source": [
    "### Focus:\n",
    "We investigate the sentiment of tweets containing the hashtags *Coronavirus* and/or *Covid19* with and without Asian references.\n",
    "\n",
    "### Methods:\n",
    "- Clean dataset by the following:\n",
    "    - Lowercase text\n",
    "    - Remove words with backslash x\n",
    "    - Remove website URLs\n",
    "    - Removing links, special characters using simple regex statements\n",
    "    - Remove stopwords\n",
    "- Compute the polarity and normalized polarity scores of cleaned tweet texts using vader's polarity scores:\n",
    "    - Polarity score is manually calculated using scores provided in vader's list of scores in vader_lexicon.txt\n",
    "    - Normalized polarity score is calcuating using SentimentIntensityAnalyzer method from vaderSentiment.vaderSentiment module.\n",
    "- Identify tweets with Asian reference and if user is a verified user\n",
    "    - Tweets with any of the keywords - 'asian', 'asians', 'chinese', 'china', and 'wuhan' - are considered to have an Asian reference.\n",
    "    - We define a 'verified' user to be a user with >= 9000 followers.\n",
    "- Identify the top five tweets with most negative or positive polarity scores\n",
    "- Plot the distributions and corresponding means of tweet polarities of various categories:\n",
    "    - Tweets with and without Asian references\n",
    "    - Tweets posted by 'verified' users vs 'normal' users\n",
    "\n",
    "### Resulting DataFrame: \n",
    "The result will be stored in DataFrame *tweets_df* with the following columns:\n",
    "- timestamp\n",
    "- tweet_text\n",
    "- username\n",
    "- all_hashtags\n",
    "- followers_count\n",
    "- location\n",
    "- clean_text\n",
    "- polarity\n",
    "- normalized_polarity\n",
    "- verified_user"
   ]
  },
  {
   "cell_type": "code",
   "execution_count": 17,
   "metadata": {
    "scrolled": true
   },
   "outputs": [],
   "source": [
    "#pip install nltk\n",
    "#pip install vaderSentiment"
   ]
  },
  {
   "cell_type": "markdown",
   "metadata": {},
   "source": [
    "## Import needed files and libraries:"
   ]
  },
  {
   "cell_type": "code",
   "execution_count": 75,
   "metadata": {},
   "outputs": [
    {
     "name": "stderr",
     "output_type": "stream",
     "text": [
      "[nltk_data] Downloading package stopwords to /Users/april/nltk_data...\n",
      "[nltk_data]   Package stopwords is already up-to-date!\n"
     ]
    }
   ],
   "source": [
    "import pandas as pd\n",
    "import numpy as np\n",
    "import nltk\n",
    "nltk.download('stopwords')\n",
    "from nltk.corpus import stopwords\n",
    "import seaborn as sns\n",
    "import matplotlib.pyplot as plt\n",
    "import re\n",
    "from vaderSentiment.vaderSentiment import SentimentIntensityAnalyzer \n",
    "from statistics import median, mean"
   ]
  },
  {
   "cell_type": "code",
   "execution_count": 46,
   "metadata": {},
   "outputs": [],
   "source": [
    "# Importing vader lexicon \n",
    "vader_lex = pd.read_csv('vader_lexicon.txt', \n",
    "                   sep='\\t',\n",
    "                   usecols=[0, 1], \n",
    "                   names=['token', 'polarity'],\n",
    "                   index_col='token')\n",
    "\n",
    "# Setting stopwords\n",
    "stop_words = list(set(stopwords.words('english')))"
   ]
  },
  {
   "cell_type": "code",
   "execution_count": 47,
   "metadata": {
    "scrolled": false
   },
   "outputs": [],
   "source": [
    "# Importing tweets\n",
    "csv_file = 'hashtagcoronavirus_covid19.csv'\n",
    "column_name = 'tweet_text'\n",
    "\n",
    "# Initializing DataFrame tweets_df\n",
    "tweets_df = pd.read_csv(csv_file)\n",
    "tweet_text = tweets_df.loc[:, (column_name)]"
   ]
  },
  {
   "cell_type": "markdown",
   "metadata": {},
   "source": [
    "## Clean data and compute both normalized and non-normalized polarity:"
   ]
  },
  {
   "cell_type": "code",
   "execution_count": 48,
   "metadata": {},
   "outputs": [],
   "source": [
    "def clean_tweet(tweet): \n",
    "    '''\n",
    "    1. Lowercase text\n",
    "    2. Remove words with backslash x\n",
    "    3. Remove website urls\n",
    "    4. Clean tweet text by removing links, special characters using simple regex statements. \n",
    "    5. Remove stopwords\n",
    "    '''\n",
    "    \n",
    "    # 1. Lowercase text\n",
    "    low = tweet.lower()\n",
    "    \n",
    "    # 2. Remove words with backslash x\n",
    "    low_fil = \" \".join(filter(lambda x:x[:2]!='\\\\x', low.split()))\n",
    "    \n",
    "    # 3. Remove website urls\n",
    "    regexurl = r'http\\S+'\n",
    "    no_urls = low_fil.replace(regexurl, '')\n",
    "\n",
    "    # 4. Clean tweet text by removing links, special characters using simple regex statements. \n",
    "    no_punct = ' '.join(re.sub(\"(@[A-Za-z0-9]+)|([^0-9A-Za-z \\t])|(\\w+:\\/\\/\\S+)\", \" \", no_urls).split())\n",
    "    \n",
    "    # 5. Remove stopwords\n",
    "    cleaned = \" \".join(filter(lambda x:x not in stop_words, no_punct.split()))\n",
    "    \n",
    "    return cleaned\n",
    "    "
   ]
  },
  {
   "cell_type": "code",
   "execution_count": 49,
   "metadata": {},
   "outputs": [],
   "source": [
    "# To compute normalized polarity\n",
    "\n",
    "def sentiment_scores(sentence): \n",
    "  \n",
    "    # Create a SentimentIntensityAnalyzer object. \n",
    "    sid_obj = SentimentIntensityAnalyzer() \n",
    "  \n",
    "    # polarity_scores method of SentimentIntensityAnalyzer \n",
    "    # object gives a sentiment dictionary. \n",
    "    # which contains pos, neg, neu, and compound scores. \n",
    "    sentiment_dict = sid_obj.polarity_scores(sentence) \n",
    "    return sentiment_dict['compound']"
   ]
  },
  {
   "cell_type": "code",
   "execution_count": 50,
   "metadata": {},
   "outputs": [],
   "source": [
    "# Terms that refer to asian ethnic groups\n",
    "asian_ref = ['asian', 'asians', 'chinese', 'china', 'wuhan']\n",
    "\n",
    "# Creating new column with cleaned tweet texts\n",
    "for i in range(len(tweet_text)):\n",
    "    cleaned = clean_tweet(tweet_text[i][1:])\n",
    "    tweets_df.at[i, \"clean_text\"] = cleaned\n",
    "    \n",
    "    # Selecting tweets with any reference to asian ethnic groups:\n",
    "    if (pd.Series(cleaned.split()).isin(asian_ref).any()):\n",
    "        tweets_df.at[i, \"asian_ref\"] = 1\n",
    "    else:\n",
    "        tweets_df.at[i, \"asian_ref\"] = 0\n",
    "        \n",
    "    # Computing normalized polarity using vader's sentiment_scores function\n",
    "    tweets_df.at[i, \"normalized_polarity\"] = sentiment_scores(cleaned)\n",
    "    \n",
    "    \n",
    "# Create column of users' verified status based on follower count\n",
    "tweets_df['verified_user'] = tweets_df['followers_count'] >= 9000"
   ]
  },
  {
   "cell_type": "markdown",
   "metadata": {},
   "source": [
    "### Computing non-normalized polarity:"
   ]
  },
  {
   "cell_type": "code",
   "execution_count": 53,
   "metadata": {},
   "outputs": [],
   "source": [
    "# Converting tweets into tidy_format\n",
    "tidy_format = (tweets_df[\"clean_text\"].str.split(expand=True).stack().reset_index(level=1).rename(columns={'level_1': 'num', 0: 'word'}))"
   ]
  },
  {
   "cell_type": "code",
   "execution_count": 54,
   "metadata": {},
   "outputs": [],
   "source": [
    "# Computing polarity of each tweet text by summing polarity of each word in text\n",
    "# Polarity of each word based on vader's polarity in vader_lexicon.txt \n",
    "tweets_df['polarity'] = tidy_format.merge(vader_lex, how='left', left_on='word', right_index=True).reset_index().loc[:, ['index', 'polarity']].groupby('index').sum().fillna(0)"
   ]
  },
  {
   "cell_type": "markdown",
   "metadata": {},
   "source": [
    "## Result:\n",
    "\n",
    "### Updated DataFrame Containing All Tweets and Following Information:\n",
    "timestamp, tweet_text, username, all_hashtags, followers_count, location, clean_text, polarity, normalized_polarity, verified_user"
   ]
  },
  {
   "cell_type": "code",
   "execution_count": 55,
   "metadata": {
    "scrolled": false
   },
   "outputs": [
    {
     "data": {
      "text/html": [
       "<div>\n",
       "<style scoped>\n",
       "    .dataframe tbody tr th:only-of-type {\n",
       "        vertical-align: middle;\n",
       "    }\n",
       "\n",
       "    .dataframe tbody tr th {\n",
       "        vertical-align: top;\n",
       "    }\n",
       "\n",
       "    .dataframe thead th {\n",
       "        text-align: right;\n",
       "    }\n",
       "</style>\n",
       "<table border=\"1\" class=\"dataframe\">\n",
       "  <thead>\n",
       "    <tr style=\"text-align: right;\">\n",
       "      <th></th>\n",
       "      <th>timestamp</th>\n",
       "      <th>tweet_text</th>\n",
       "      <th>username</th>\n",
       "      <th>all_hashtags</th>\n",
       "      <th>followers_count</th>\n",
       "      <th>location</th>\n",
       "      <th>clean_text</th>\n",
       "      <th>asian_ref</th>\n",
       "      <th>normalized_polarity</th>\n",
       "      <th>verified_user</th>\n",
       "      <th>polarity</th>\n",
       "    </tr>\n",
       "  </thead>\n",
       "  <tbody>\n",
       "    <tr>\n",
       "      <td>0</td>\n",
       "      <td>2020-04-14 02:31:35</td>\n",
       "      <td>b'He gets up every day? Hasn\\xe2\\x80\\x99t caug...</td>\n",
       "      <td>b'bigmusicfan71'</td>\n",
       "      <td>['coronavirus', 'COVID19', '25thAmendmentNow']</td>\n",
       "      <td>354</td>\n",
       "      <td>b''</td>\n",
       "      <td>gets every day xe2 x80 x99t caught coronavirus...</td>\n",
       "      <td>0.0</td>\n",
       "      <td>0.0000</td>\n",
       "      <td>False</td>\n",
       "      <td>0.0</td>\n",
       "    </tr>\n",
       "    <tr>\n",
       "      <td>1</td>\n",
       "      <td>2020-04-14 02:31:35</td>\n",
       "      <td>b'@Welptheresthat @NorthmanTrader Not when the...</td>\n",
       "      <td>b'GKeeto'</td>\n",
       "      <td>['china', 'ChinaMustExplain', 'ChinaVirus', 'C...</td>\n",
       "      <td>6</td>\n",
       "      <td>b''</td>\n",
       "      <td>product complete chinese made garbage accounts...</td>\n",
       "      <td>1.0</td>\n",
       "      <td>0.0000</td>\n",
       "      <td>False</td>\n",
       "      <td>0.0</td>\n",
       "    </tr>\n",
       "    <tr>\n",
       "      <td>2</td>\n",
       "      <td>2020-04-14 02:31:34</td>\n",
       "      <td>b'Holy \\xf0\\x9f\\x92\\xa9 \\xe2\\x81\\xa6@VanityFai...</td>\n",
       "      <td>b'DrumpfsLies'</td>\n",
       "      <td>['INCOMPETENCEKILLS', 'COVID19', 'coronavirus'...</td>\n",
       "      <td>230</td>\n",
       "      <td>b'California, USA'</td>\n",
       "      <td>holy scorchingly amazing incompetencekills cov...</td>\n",
       "      <td>0.0</td>\n",
       "      <td>0.5859</td>\n",
       "      <td>False</td>\n",
       "      <td>2.8</td>\n",
       "    </tr>\n",
       "    <tr>\n",
       "      <td>3</td>\n",
       "      <td>2020-04-14 02:31:32</td>\n",
       "      <td>b'This could be the end of the line for cruise...</td>\n",
       "      <td>b'1petermartin'</td>\n",
       "      <td>['COVID19', 'coronavirus', 'ausecon', 'auspol']</td>\n",
       "      <td>32382</td>\n",
       "      <td>b''</td>\n",
       "      <td>could end line cruise ships covid19 coronaviru...</td>\n",
       "      <td>0.0</td>\n",
       "      <td>0.0000</td>\n",
       "      <td>True</td>\n",
       "      <td>0.0</td>\n",
       "    </tr>\n",
       "    <tr>\n",
       "      <td>4</td>\n",
       "      <td>2020-04-14 02:31:22</td>\n",
       "      <td>b'Dear @CNN,  Can you sincerely claim @realDon...</td>\n",
       "      <td>b'WarmMonkey'</td>\n",
       "      <td>['coronavirus', 'COVID19']</td>\n",
       "      <td>651</td>\n",
       "      <td>b'Out of The Closet'</td>\n",
       "      <td>dear sincerely claim handling coronavirus cris...</td>\n",
       "      <td>0.0</td>\n",
       "      <td>0.6584</td>\n",
       "      <td>False</td>\n",
       "      <td>1.3</td>\n",
       "    </tr>\n",
       "    <tr>\n",
       "      <td>...</td>\n",
       "      <td>...</td>\n",
       "      <td>...</td>\n",
       "      <td>...</td>\n",
       "      <td>...</td>\n",
       "      <td>...</td>\n",
       "      <td>...</td>\n",
       "      <td>...</td>\n",
       "      <td>...</td>\n",
       "      <td>...</td>\n",
       "      <td>...</td>\n",
       "      <td>...</td>\n",
       "    </tr>\n",
       "    <tr>\n",
       "      <td>995</td>\n",
       "      <td>2020-04-14 01:34:17</td>\n",
       "      <td>b'@JimWTAE @WTAE And here is a third Smithfiel...</td>\n",
       "      <td>b'realhumanrights'</td>\n",
       "      <td>['Wisconsin', 'Cudahy', 'COVID19', 'coronaviru...</td>\n",
       "      <td>2853</td>\n",
       "      <td>b'Washington DC'</td>\n",
       "      <td>third smithfield food plant wisconsin cudahy 2...</td>\n",
       "      <td>0.0</td>\n",
       "      <td>0.5574</td>\n",
       "      <td>False</td>\n",
       "      <td>2.6</td>\n",
       "    </tr>\n",
       "    <tr>\n",
       "      <td>996</td>\n",
       "      <td>2020-04-14 01:34:15</td>\n",
       "      <td>b'#TruthBeTold  Abso-fucking-lutly!!!  #Heartb...</td>\n",
       "      <td>b'AltBadDude'</td>\n",
       "      <td>['TruthBeTold', 'Heartbreaking', 'trumpsameric...</td>\n",
       "      <td>1308</td>\n",
       "      <td>b'Maryland, USA'</td>\n",
       "      <td>truthbetold abso fucking lutly heartbreaking l...</td>\n",
       "      <td>0.0</td>\n",
       "      <td>-0.5829</td>\n",
       "      <td>False</td>\n",
       "      <td>-2.5</td>\n",
       "    </tr>\n",
       "    <tr>\n",
       "      <td>997</td>\n",
       "      <td>2020-04-14 01:34:15</td>\n",
       "      <td>b'Trump assembles his crew of X-Men to save us...</td>\n",
       "      <td>b'BoneKnightmare'</td>\n",
       "      <td>['EndOfDays', 'apocalypse2020', 'COVID19', 'co...</td>\n",
       "      <td>3760</td>\n",
       "      <td>b'Parts Unknown'</td>\n",
       "      <td>trump assembles crew x men save us doomed endo...</td>\n",
       "      <td>0.0</td>\n",
       "      <td>-0.2500</td>\n",
       "      <td>False</td>\n",
       "      <td>-1.0</td>\n",
       "    </tr>\n",
       "    <tr>\n",
       "      <td>998</td>\n",
       "      <td>2020-04-14 01:34:14</td>\n",
       "      <td>b'A shameful incident of Jaunpur, this is how ...</td>\n",
       "      <td>b'itemads'</td>\n",
       "      <td>['CoronaVirus', 'CoronaVirusPandemic', 'Corona...</td>\n",
       "      <td>63</td>\n",
       "      <td>b'Jeddah'</td>\n",
       "      <td>shameful incident jaunpur misuse power happens...</td>\n",
       "      <td>0.0</td>\n",
       "      <td>-0.4939</td>\n",
       "      <td>False</td>\n",
       "      <td>-2.2</td>\n",
       "    </tr>\n",
       "    <tr>\n",
       "      <td>999</td>\n",
       "      <td>2020-04-14 01:34:13</td>\n",
       "      <td>b'\\xf0\\x9f\\x94\\xa5FACT: CASES NOT DEATHS R HIG...</td>\n",
       "      <td>b'SleepyAddicts'</td>\n",
       "      <td>['coronavirus', 'COVID19', 'WHO', 'CDC', 'viru...</td>\n",
       "      <td>4150</td>\n",
       "      <td>b'Seattle'</td>\n",
       "      <td>xf0 x9f x94 xa5fact cases deaths r high 118k d...</td>\n",
       "      <td>0.0</td>\n",
       "      <td>-0.6124</td>\n",
       "      <td>False</td>\n",
       "      <td>-3.0</td>\n",
       "    </tr>\n",
       "  </tbody>\n",
       "</table>\n",
       "<p>1000 rows × 11 columns</p>\n",
       "</div>"
      ],
      "text/plain": [
       "               timestamp                                         tweet_text  \\\n",
       "0    2020-04-14 02:31:35  b'He gets up every day? Hasn\\xe2\\x80\\x99t caug...   \n",
       "1    2020-04-14 02:31:35  b'@Welptheresthat @NorthmanTrader Not when the...   \n",
       "2    2020-04-14 02:31:34  b'Holy \\xf0\\x9f\\x92\\xa9 \\xe2\\x81\\xa6@VanityFai...   \n",
       "3    2020-04-14 02:31:32  b'This could be the end of the line for cruise...   \n",
       "4    2020-04-14 02:31:22  b'Dear @CNN,  Can you sincerely claim @realDon...   \n",
       "..                   ...                                                ...   \n",
       "995  2020-04-14 01:34:17  b'@JimWTAE @WTAE And here is a third Smithfiel...   \n",
       "996  2020-04-14 01:34:15  b'#TruthBeTold  Abso-fucking-lutly!!!  #Heartb...   \n",
       "997  2020-04-14 01:34:15  b'Trump assembles his crew of X-Men to save us...   \n",
       "998  2020-04-14 01:34:14  b'A shameful incident of Jaunpur, this is how ...   \n",
       "999  2020-04-14 01:34:13  b'\\xf0\\x9f\\x94\\xa5FACT: CASES NOT DEATHS R HIG...   \n",
       "\n",
       "               username                                       all_hashtags  \\\n",
       "0      b'bigmusicfan71'     ['coronavirus', 'COVID19', '25thAmendmentNow']   \n",
       "1             b'GKeeto'  ['china', 'ChinaMustExplain', 'ChinaVirus', 'C...   \n",
       "2        b'DrumpfsLies'  ['INCOMPETENCEKILLS', 'COVID19', 'coronavirus'...   \n",
       "3       b'1petermartin'    ['COVID19', 'coronavirus', 'ausecon', 'auspol']   \n",
       "4         b'WarmMonkey'                         ['coronavirus', 'COVID19']   \n",
       "..                  ...                                                ...   \n",
       "995  b'realhumanrights'  ['Wisconsin', 'Cudahy', 'COVID19', 'coronaviru...   \n",
       "996       b'AltBadDude'  ['TruthBeTold', 'Heartbreaking', 'trumpsameric...   \n",
       "997   b'BoneKnightmare'  ['EndOfDays', 'apocalypse2020', 'COVID19', 'co...   \n",
       "998          b'itemads'  ['CoronaVirus', 'CoronaVirusPandemic', 'Corona...   \n",
       "999    b'SleepyAddicts'  ['coronavirus', 'COVID19', 'WHO', 'CDC', 'viru...   \n",
       "\n",
       "     followers_count              location  \\\n",
       "0                354                   b''   \n",
       "1                  6                   b''   \n",
       "2                230    b'California, USA'   \n",
       "3              32382                   b''   \n",
       "4                651  b'Out of The Closet'   \n",
       "..               ...                   ...   \n",
       "995             2853      b'Washington DC'   \n",
       "996             1308      b'Maryland, USA'   \n",
       "997             3760      b'Parts Unknown'   \n",
       "998               63             b'Jeddah'   \n",
       "999             4150            b'Seattle'   \n",
       "\n",
       "                                            clean_text  asian_ref  \\\n",
       "0    gets every day xe2 x80 x99t caught coronavirus...        0.0   \n",
       "1    product complete chinese made garbage accounts...        1.0   \n",
       "2    holy scorchingly amazing incompetencekills cov...        0.0   \n",
       "3    could end line cruise ships covid19 coronaviru...        0.0   \n",
       "4    dear sincerely claim handling coronavirus cris...        0.0   \n",
       "..                                                 ...        ...   \n",
       "995  third smithfield food plant wisconsin cudahy 2...        0.0   \n",
       "996  truthbetold abso fucking lutly heartbreaking l...        0.0   \n",
       "997  trump assembles crew x men save us doomed endo...        0.0   \n",
       "998  shameful incident jaunpur misuse power happens...        0.0   \n",
       "999  xf0 x9f x94 xa5fact cases deaths r high 118k d...        0.0   \n",
       "\n",
       "     normalized_polarity  verified_user  polarity  \n",
       "0                 0.0000          False       0.0  \n",
       "1                 0.0000          False       0.0  \n",
       "2                 0.5859          False       2.8  \n",
       "3                 0.0000           True       0.0  \n",
       "4                 0.6584          False       1.3  \n",
       "..                   ...            ...       ...  \n",
       "995               0.5574          False       2.6  \n",
       "996              -0.5829          False      -2.5  \n",
       "997              -0.2500          False      -1.0  \n",
       "998              -0.4939          False      -2.2  \n",
       "999              -0.6124          False      -3.0  \n",
       "\n",
       "[1000 rows x 11 columns]"
      ]
     },
     "execution_count": 55,
     "metadata": {},
     "output_type": "execute_result"
    }
   ],
   "source": [
    "# Updated tweets DataFrame with additional clean_text, polarity, normalized_polarity, and verified_user columns\n",
    "tweets_df"
   ]
  },
  {
   "cell_type": "markdown",
   "metadata": {},
   "source": [
    "## A closer look at the most positive and negative tweets:\n",
    "\n",
    "### Top 5 Most Positive:"
   ]
  },
  {
   "cell_type": "code",
   "execution_count": 215,
   "metadata": {
    "scrolled": false
   },
   "outputs": [
    {
     "name": "stdout",
     "output_type": "stream",
     "text": [
      "Most positive tweets regarding #Coronavirus and #Covid19:\n",
      "\n",
      "Polarity:  4.7 \n",
      "Tweet Text:  b'@peterbakernyt #COVID19 #CoronaVirus #Corona #SARSCoV2 #Corona19  \\xf0\\x9f\\x98\\xb7   Lol  Approximately 1.4 billion Chinese around the world call it \\xe2\\x80\\x9cWuhan pneumonia\\xe2\\x80\\x9d   \\xe6\\xad\\xa6\\xe6\\xb1\\x89\\xe8\\x82\\xba\\xe7\\x82\\x8e  There\\xe2\\x80\\x99s your Chinese lesson for today.  \\xf0\\x9f\\xa6\\xa0'\n",
      "\n",
      "Polarity:  3.4 \n",
      "Tweet Text:  b'#Japan offers $2.2B to help domestic companies move production from #China, but will it help the imaging industry? https://t.co/SdNdcPG2TC #Coronavirus #Covid19 #economy'\n",
      "\n",
      "Polarity:  3.3000000000000003 \n",
      "Tweet Text:  b'These Asian artists are using their lockdown downtime to create music inspired by the coronavirus.  #COVID19 #coronavirus #lockdown #quarantine'\n",
      "\n",
      "Polarity:  3.1 \n",
      "Tweet Text:  b'@realDonaldTrump CORONAVIRUS UPDATE:  STUNNING! US Gave Wuhan Lab $3.7 Million Grant to Study Horseshoe Bats that Carry Coronavirus #COVID19 #COVID2019 #coronavirus #COVID #Covid19usa #CoronavirusUSA #CoronavirusPandemic #ChinaVirus #ChineseVirus19 https://t.co/0wWXa5Poi9'\n",
      "\n",
      "Polarity:  3.1 \n",
      "Tweet Text:  b'CORONAVIRUS UPDATE:  STUNNING! US Gave Wuhan Lab $3.7 Million Grant to Study Horseshoe Bats that Carry Coronavirus #COVID19 #COVID2019 #coronavirus #COVID #Covid19usa #CoronavirusUSA #CoronavirusPandemic #ChinaVirus #ChineseVirus19 #ChinaLiedAndPeopleDied  https://t.co/0wWXa5Poi9'\n"
     ]
    }
   ],
   "source": [
    "tweets_asian = pd.DataFrame(tweets_df[tweets_df['asian_ref'] == 1.0])\n",
    "print('Most positive tweets regarding #Coronavirus and #Covid19:')\n",
    "t = tweets_asian.sort_values(by = ['polarity'], ascending=False)[['polarity', 'tweet_text']].head(5).reset_index()\n",
    "for i in range(len(t)):\n",
    "    print('\\nPolarity: ', t['polarity'][i], \"\\nTweet Text: \", t['tweet_text'][i])"
   ]
  },
  {
   "cell_type": "markdown",
   "metadata": {},
   "source": [
    "### Top 5 Most Negative"
   ]
  },
  {
   "cell_type": "code",
   "execution_count": 216,
   "metadata": {},
   "outputs": [
    {
     "name": "stdout",
     "output_type": "stream",
     "text": [
      "Most negative tweets regarding #Coronavirus and #Covid19:\n",
      "\n",
      "Polarity:  -10.2 \n",
      "Tweet Text:  b'When Chinese are accusing Taiwanese of racial abuse to Tedros, they are even more racist to people with dark skin. How ironic. #fuckchina #wuhanvirus #chinavirus #ccpvirus #COVID19 #coronavirus #cardib #bitch https://t.co/ntEj8vgCki'\n",
      "\n",
      "Polarity:  -6.6 \n",
      "Tweet Text:  b'The death rate in Italy, Spain and France - three of the countries worst-affected by the coronavirus - appears to be slowing.  #coronavirus #CoronaOutbreak #Wuhan #China #COVID19 #India #COVID #CoronaVirusUpdate #ChineseVirus #WuhanVirus #US #Italy #Spain #Germany #France'\n",
      "\n",
      "Polarity:  -5.2 \n",
      "Tweet Text:  b'Fighting fake news: The new front in the coronavirus battle @AJENews   #coronavirus  #CoronaOutbreak #Wuhan #China #COVID19 #India #COVID #CoronaVirusUpdate #ChineseVirus #WuhanVirus #US #Italy #Spain #Germany #France #UK #Iran #WHO #FakeNews    https://t.co/Ks4lKhlxsL'\n",
      "\n",
      "Polarity:  -3.8 \n",
      "Tweet Text:  b\"#Trump claims 'total authority' and attacks media in chaotic coronavirus briefing   #coronavirus #coronarvirues #CoronaOutbreak #Wuhan #China #COVID19 #COVID #CoronaVirusUpdate #ChineseVirus #WuhanVirus #US   https://t.co/XS95nJYODJ\"\n",
      "\n",
      "Polarity:  -3.6000000000000005 \n",
      "Tweet Text:  b'The CNN has alot of Trump supporters mad \\xf0\\x9f\\xa4\\x94\\xf0\\x9f\\x98\\x82  Q: What was Trump doing in Feb? Having rallies , golfing ... Feb 7 th gave 17 tons of PPE to China without restocking/replacing PPE \\xf0\\x9f\\xa4\\x94 calling #COVID19 a hoax blaming the media ... #TrumpMeltdown #PressBriefing #coronavirus #UBI'\n"
     ]
    }
   ],
   "source": [
    "print('Most negative tweets regarding #Coronavirus and #Covid19:')\n",
    "t = tweets_asian.sort_values(by = ['polarity'], ascending=True)[['polarity', 'tweet_text']].head(5).reset_index()\n",
    "for i in range(len(t)):\n",
    "    print('\\nPolarity: ', t['polarity'][i], \"\\nTweet Text: \", t['tweet_text'][i])"
   ]
  },
  {
   "cell_type": "markdown",
   "metadata": {},
   "source": [
    "# Distribution of Tweet Polarities:\n",
    "Median of all distributions below is equal to 0."
   ]
  },
  {
   "cell_type": "markdown",
   "metadata": {},
   "source": [
    "### Distribution of All Tweet Polarities:"
   ]
  },
  {
   "cell_type": "code",
   "execution_count": 94,
   "metadata": {},
   "outputs": [
    {
     "data": {
      "text/plain": [
       "0.1592"
      ]
     },
     "execution_count": 94,
     "metadata": {},
     "output_type": "execute_result"
    }
   ],
   "source": [
    "max(tweets_df['polarity'])\n",
    "mean_all = (mean(tweets_df['polarity']))\n",
    "mean_all"
   ]
  },
  {
   "cell_type": "code",
   "execution_count": 95,
   "metadata": {},
   "outputs": [
    {
     "data": {
      "image/png": "[encoded data removed]",
      "text/plain": [
       "<Figure size 432x288 with 1 Axes>"
      ]
     },
     "metadata": {
      "needs_background": "light"
     },
     "output_type": "display_data"
    }
   ],
   "source": [
    "sns.distplot(tweets_df['polarity'])\n",
    "plt.title('Distributions of Coronavirus/Covid19 Tweet Polarities')\n",
    "plt.xlim(-12,11)\n",
    "plt.plot(mean_all, 0, 'ro')\n",
    "plt.annotate(\"mean\", (mean_all, 0), textcoords=\"offset points\", xytext=(0,10));"
   ]
  },
  {
   "cell_type": "markdown",
   "metadata": {},
   "source": [
    "### Distribution of Tweet Polarities with Asian References:"
   ]
  },
  {
   "cell_type": "code",
   "execution_count": 96,
   "metadata": {},
   "outputs": [
    {
     "data": {
      "text/plain": [
       "-0.5577464788732394"
      ]
     },
     "execution_count": 96,
     "metadata": {},
     "output_type": "execute_result"
    }
   ],
   "source": [
    "# Selecting all tweets with asian reference\n",
    "asian_ref_tweets = tweets_df.loc[tweets_df['asian_ref'] == 1.0]\n",
    "mean_asian = (mean(asian_ref_tweets['polarity']))\n",
    "mean_asian"
   ]
  },
  {
   "cell_type": "code",
   "execution_count": 97,
   "metadata": {
    "scrolled": true
   },
   "outputs": [
    {
     "data": {
      "image/png": "[encoded data removed]",
      "text/plain": [
       "<Figure size 432x288 with 1 Axes>"
      ]
     },
     "metadata": {
      "needs_background": "light"
     },
     "output_type": "display_data"
    }
   ],
   "source": [
    "sns.distplot(asian_ref_tweets['polarity'])\n",
    "plt.title('Distributions of Coronavirus/Covid19 With Asian Reference Tweet Polarities')\n",
    "plt.xlim(-12,11)\n",
    "plt.plot(mean_asian, 0, 'ro')\n",
    "plt.annotate(\"mean\", (mean_asian, 0), textcoords=\"offset points\", xytext=(0,10));"
   ]
  },
  {
   "cell_type": "markdown",
   "metadata": {},
   "source": [
    "### Combining Distribution of Tweet Polarities With/Without Asian References:"
   ]
  },
  {
   "cell_type": "code",
   "execution_count": 113,
   "metadata": {},
   "outputs": [
    {
     "name": "stdout",
     "output_type": "stream",
     "text": [
      "mean_no_asian:  0.2139935414424112\n",
      "mean_asian:  -0.5577464788732394\n"
     ]
    }
   ],
   "source": [
    "mean_no_asian = mean(tweets_df.loc[tweets_df['asian_ref'] == 0.0]['polarity'])\n",
    "print(\"mean_no_asian: \", mean_no_asian)\n",
    "print(\"mean_asian: \", mean_asian)"
   ]
  },
  {
   "cell_type": "code",
   "execution_count": 105,
   "metadata": {},
   "outputs": [
    {
     "data": {
      "text/plain": [
       "[<matplotlib.lines.Line2D at 0x1218c3a90>]"
      ]
     },
     "execution_count": 105,
     "metadata": {},
     "output_type": "execute_result"
    },
    {
     "data": {
      "image/png": "[encoded data removed]",
      "text/plain": [
       "<Figure size 432x288 with 1 Axes>"
      ]
     },
     "metadata": {
      "needs_background": "light"
     },
     "output_type": "display_data"
    }
   ],
   "source": [
    "sns.distplot(tweets_df[tweets_df['asian_ref'] == 1.0]['polarity'])\n",
    "sns.distplot(tweets_df[tweets_df['asian_ref'] == 0.0]['polarity'])\n",
    "plt.legend(['with', 'without'])\n",
    "plt.title('Distributions of Tweet Polarities (Asian References With/Without)')\n",
    "plt.plot(mean_asian, 0, 'bo')\n",
    "plt.plot(mean_no_asian, 0, 'ro')"
   ]
  },
  {
   "cell_type": "code",
   "execution_count": 126,
   "metadata": {},
   "outputs": [
    {
     "name": "stdout",
     "output_type": "stream",
     "text": [
      "40\n",
      "31\n",
      "Positive\n"
     ]
    }
   ],
   "source": [
    "asian_ref = tweets_df.loc[tweets_df['asian_ref'] == 1.0]['polarity'] < 0\n",
    "pos_asian = pd.Series(asian_ref).where(lambda x: x == False).dropna()\n",
    "neg_asian = pd.Series(asian_ref).where(lambda x: x == True).dropna()\n",
    "if (len(pos_asian) - len(neg_asian)) < 0:\n",
    "    asian_sentiment = \"Negative\"\n",
    "else:\n",
    "    asian_sentiment = \"Positive\"\n",
    "\n",
    "print(len(pos_asian))\n",
    "print(len(neg_asian))\n",
    "print(asian_sentiment)\n",
    "#sum_asian = sum(tweets_df.loc[tweets_df['asian_ref'] == 1.0]['polarity'])\n",
    "#print(\"sum_no_asian: \", sum_no_asian)\n",
    "#print(\"sum_asian: \",sum_asian)\n",
    "\n",
    "#no_asian_ref = tweets_df.loc[tweets_df['asian_ref'] == 0.0]['polarity'] < 0\n",
    "#neg_no_asian = pd.Series(no_asian_ref).where(lambda x: x == True).dropna()\n",
    "\n",
    "#print(len(neg_asian))\n",
    "#print(len(neg_no_asian))"
   ]
  },
  {
   "cell_type": "markdown",
   "metadata": {},
   "source": [
    "### Distribution of Tweet Polarities (Verified Users VS. Normal Users)\n",
    "Verified users have a high follower count and, consequently, can reach (and may or may not impact) a greater audience than non-verified users (as we call 'normal' users) of Twitter. Therefore, we are interested in comparing the polarity distribution of tweets posted verified users VS. normal users."
   ]
  },
  {
   "cell_type": "code",
   "execution_count": 62,
   "metadata": {},
   "outputs": [
    {
     "data": {
      "text/plain": [
       "Text(0.5, 1.0, 'Distributions of Tweet Polarities (Verified Users vs. Normal Users)')"
      ]
     },
     "execution_count": 62,
     "metadata": {},
     "output_type": "execute_result"
    },
    {
     "data": {
      "image/png": "[encoded data removed]",
      "text/plain": [
       "<Figure size 432x288 with 1 Axes>"
      ]
     },
     "metadata": {
      "needs_background": "light"
     },
     "output_type": "display_data"
    }
   ],
   "source": [
    "sns.distplot(tweets_df[tweets_df['verified_user'] == True]['polarity'])\n",
    "sns.distplot(tweets_df[tweets_df['verified_user'] == False]['polarity'])\n",
    "plt.legend(['verified', 'normal'])\n",
    "plt.title('Distributions of Tweet Polarities (Verified Users vs. Normal Users)')"
   ]
  }
 ],
 "metadata": {
  "kernelspec": {
   "display_name": "Python 3",
   "language": "python",
   "name": "python3"
  },
  "language_info": {
   "codemirror_mode": {
    "name": "ipython",
    "version": 3
   },
   "file_extension": ".py",
   "mimetype": "text/x-python",
   "name": "python",
   "nbconvert_exporter": "python",
   "pygments_lexer": "ipython3",
   "version": "3.7.4"
  }
 },
 "nbformat": 4,
 "nbformat_minor": 2
}
