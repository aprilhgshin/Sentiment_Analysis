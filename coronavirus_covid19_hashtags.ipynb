{
 "cells": [
  {
   "cell_type": "markdown",
   "metadata": {},
   "source": [
    "# Sentiment Analysis of Tweets with Coronavirus/ Covid19 Hashtags"
   ]
  },
  {
   "cell_type": "markdown",
   "metadata": {},
   "source": [
    "### Focus:\n",
    "We investigate the sentiment of tweets containing the hashtags *Coronavirus* and/or *Covid19* with and without Asian references.\n",
    "\n",
    "### Methods:\n",
    "- Clean dataset by the following:\n",
    "    - Lowercase text\n",
    "    - Remove words with backslash x\n",
    "    - Remove website URLs\n",
    "    - Removing links, special characters using simple regex statements\n",
    "    - Remove stopwords\n",
    "- Compute the polarity and normalized polarity scores of cleaned tweet texts using vader's polarity scores:\n",
    "    - Polarity score is manually calculated using scores provided in vader's list of scores in vader_lexicon.txt\n",
    "    - Normalized polarity score is calcuating using SentimentIntensityAnalyzer method from vaderSentiment.vaderSentiment module.\n",
    "- Identify tweets with Asian reference and if user is a verified user\n",
    "    - Tweets with any of the keywords such as 'asian', 'asians', 'chinese', 'china', and 'wuhan' are considered to have an Asian reference.\n",
    "    - We define a 'verified' user to be a user with >= 9000 followers.\n",
    "- Identify the top five tweets with most negative or positive polarity scores\n",
    "- Plot the distributions and corresponding means of tweet polarities of various categories:\n",
    "    - Tweets with and without Asian references\n",
    "    - Tweets posted by 'verified' users vs 'normal' users\n",
    "- Determine correlation between mean polarity scores and number of coronavirus cases in each US state:\n",
    "    - Identify tweets with valid locations in the US (using major city and state names to determine tweet location)\n",
    "    - Visualize polarity scores and number of coronavirus cases on geopandas map of the US\n",
    "    - Compute Pearson's correlation coefficient to study the strength of the linear relationship between the two variables\n",
    "    - Compute Spearman's correlation coefficient to determine if there exists a nonlinear relationship between the two variables \n",
    "\n",
    "### Resulting DataFrame with Polarity Scores: \n",
    "The result will be stored in DataFrame *tweets_df* with the following columns:\n",
    "- timestamp\n",
    "- tweet_text\n",
    "- username\n",
    "- all_hashtags\n",
    "- followers_count\n",
    "- location\n",
    "- clean_text\n",
    "- polarity\n",
    "- normalized_polarity\n",
    "- verified_user"
   ]
  },
  {
   "cell_type": "code",
   "execution_count": 397,
   "metadata": {
    "scrolled": false
   },
   "outputs": [],
   "source": [
    "#pip install nltk\n",
    "#pip install vaderSentiment\n",
    "#pip install geopandas\n",
    "#pip install descartes"
   ]
  },
  {
   "cell_type": "markdown",
   "metadata": {},
   "source": [
    "## Import needed files and libraries:"
   ]
  },
  {
   "cell_type": "code",
   "execution_count": 527,
   "metadata": {},
   "outputs": [
    {
     "name": "stderr",
     "output_type": "stream",
     "text": [
      "[nltk_data] Downloading package stopwords to /Users/april/nltk_data...\n",
      "[nltk_data]   Package stopwords is already up-to-date!\n"
     ]
    }
   ],
   "source": [
    "import pandas as pd\n",
    "import numpy as np\n",
    "from numpy import cov\n",
    "from scipy.stats import pearsonr, spearmanr\n",
    "import nltk\n",
    "nltk.download('stopwords')\n",
    "from nltk.corpus import stopwords\n",
    "import seaborn as sns\n",
    "import matplotlib\n",
    "import matplotlib.pyplot as plt\n",
    "import re\n",
    "from vaderSentiment.vaderSentiment import SentimentIntensityAnalyzer \n",
    "from statistics import median, mean\n",
    "import geopandas as gpd\n",
    "from shapely.geometry import Point, Polygon"
   ]
  },
  {
   "cell_type": "code",
   "execution_count": 3,
   "metadata": {},
   "outputs": [],
   "source": [
    "# Importing vader lexicon \n",
    "vader_lex = pd.read_csv('vader_lexicon.txt', \n",
    "                   sep='\\t',\n",
    "                   usecols=[0, 1], \n",
    "                   names=['token', 'polarity'],\n",
    "                   index_col='token')\n",
    "\n",
    "# Setting stopwords\n",
    "stop_words = list(set(stopwords.words('english')))"
   ]
  },
  {
   "cell_type": "code",
   "execution_count": 4,
   "metadata": {
    "scrolled": false
   },
   "outputs": [],
   "source": [
    "# Importing tweets\n",
    "csv_file = 'hashtagcoronavirus_covid19.csv'\n",
    "column_name = 'tweet_text'\n",
    "\n",
    "# Initializing DataFrame tweets_df\n",
    "tweets_df = pd.read_csv(csv_file)\n",
    "tweet_text = tweets_df.loc[:, (column_name)]"
   ]
  },
  {
   "cell_type": "markdown",
   "metadata": {},
   "source": [
    "## Clean data and compute both normalized and non-normalized polarity:"
   ]
  },
  {
   "cell_type": "code",
   "execution_count": 5,
   "metadata": {},
   "outputs": [],
   "source": [
    "def clean_tweet(tweet): \n",
    "    '''\n",
    "    1. Lowercase text\n",
    "    2. Remove words with backslash x\n",
    "    3. Remove website urls\n",
    "    4. Clean tweet text by removing links, special characters using simple regex statements. \n",
    "    5. Remove stopwords\n",
    "    '''\n",
    "    \n",
    "    # 1. Lowercase text\n",
    "    low = tweet.lower()\n",
    "    \n",
    "    # 2. Remove words with backslash x\n",
    "    low_fil = \" \".join(filter(lambda x:x[:2]!='\\\\x', low.split()))\n",
    "    \n",
    "    # 3. Remove website urls\n",
    "    regexurl = r'http\\S+'\n",
    "    no_urls = low_fil.replace(regexurl, '')\n",
    "\n",
    "    # 4. Clean tweet text by removing links, special characters using simple regex statements. \n",
    "    no_punct = ' '.join(re.sub(\"(@[A-Za-z0-9]+)|([^0-9A-Za-z \\t])|(\\w+:\\/\\/\\S+)\", \" \", no_urls).split())\n",
    "    \n",
    "    # 5. Remove stopwords\n",
    "    cleaned = \" \".join(filter(lambda x:x not in stop_words, no_punct.split()))\n",
    "    \n",
    "    return cleaned\n",
    "    "
   ]
  },
  {
   "cell_type": "code",
   "execution_count": 6,
   "metadata": {},
   "outputs": [],
   "source": [
    "# To compute normalized polarity\n",
    "\n",
    "def sentiment_scores(sentence): \n",
    "  \n",
    "    # Create a SentimentIntensityAnalyzer object. \n",
    "    sid_obj = SentimentIntensityAnalyzer() \n",
    "  \n",
    "    # polarity_scores method of SentimentIntensityAnalyzer \n",
    "    # object gives a sentiment dictionary. \n",
    "    # which contains pos, neg, neu, and compound scores. \n",
    "    sentiment_dict = sid_obj.polarity_scores(sentence) \n",
    "    return sentiment_dict['compound']"
   ]
  },
  {
   "cell_type": "code",
   "execution_count": 7,
   "metadata": {},
   "outputs": [],
   "source": [
    "# Terms that refer to asian ethnic groups\n",
    "asian_ref = ['asian', 'asians', 'chinese', 'china', 'wuhan', 'asia', 'oriental', 'asiatic', 'eastern']\n",
    "\n",
    "# Creating new column with cleaned tweet texts\n",
    "for i in range(len(tweet_text)):\n",
    "    cleaned = clean_tweet(tweet_text[i][1:])\n",
    "    tweets_df.at[i, \"clean_text\"] = cleaned\n",
    "    \n",
    "    # Selecting tweets with any reference to asian ethnic groups:\n",
    "    if (pd.Series(cleaned.split()).isin(asian_ref).any()):\n",
    "        tweets_df.at[i, \"asian_ref\"] = 1\n",
    "    else:\n",
    "        tweets_df.at[i, \"asian_ref\"] = 0\n",
    "        \n",
    "    # Computing normalized polarity using vader's sentiment_scores function\n",
    "    tweets_df.at[i, \"normalized_polarity\"] = sentiment_scores(cleaned)\n",
    "    \n",
    "    \n",
    "# Create column of users' verified status based on follower count\n",
    "tweets_df['verified_user'] = tweets_df['followers_count'] >= 9000"
   ]
  },
  {
   "cell_type": "markdown",
   "metadata": {},
   "source": [
    "### Computing non-normalized polarity:"
   ]
  },
  {
   "cell_type": "code",
   "execution_count": 8,
   "metadata": {},
   "outputs": [],
   "source": [
    "# Converting tweets into tidy_format\n",
    "tidy_format = (tweets_df[\"clean_text\"].str.split(expand=True).stack().reset_index(level=1).rename(columns={'level_1': 'num', 0: 'word'}))"
   ]
  },
  {
   "cell_type": "code",
   "execution_count": 9,
   "metadata": {},
   "outputs": [],
   "source": [
    "# Computing polarity of each tweet text by summing polarity of each word in text\n",
    "# Polarity of each word based on vader's polarity in vader_lexicon.txt \n",
    "tweets_df['polarity'] = tidy_format.merge(vader_lex, how='left', left_on='word', right_index=True).reset_index().loc[:, ['index', 'polarity']].groupby('index').sum().fillna(0)"
   ]
  },
  {
   "cell_type": "markdown",
   "metadata": {},
   "source": [
    "## Result:\n",
    "\n",
    "### Updated DataFrame Containing All Tweets and Following Information:\n",
    "timestamp, tweet_text, username, all_hashtags, followers_count, location, clean_text, polarity, normalized_polarity, verified_user"
   ]
  },
  {
   "cell_type": "code",
   "execution_count": 10,
   "metadata": {
    "scrolled": false
   },
   "outputs": [
    {
     "data": {
      "text/html": [
       "<div>\n",
       "<style scoped>\n",
       "    .dataframe tbody tr th:only-of-type {\n",
       "        vertical-align: middle;\n",
       "    }\n",
       "\n",
       "    .dataframe tbody tr th {\n",
       "        vertical-align: top;\n",
       "    }\n",
       "\n",
       "    .dataframe thead th {\n",
       "        text-align: right;\n",
       "    }\n",
       "</style>\n",
       "<table border=\"1\" class=\"dataframe\">\n",
       "  <thead>\n",
       "    <tr style=\"text-align: right;\">\n",
       "      <th></th>\n",
       "      <th>timestamp</th>\n",
       "      <th>tweet_text</th>\n",
       "      <th>username</th>\n",
       "      <th>all_hashtags</th>\n",
       "      <th>followers_count</th>\n",
       "      <th>location</th>\n",
       "      <th>clean_text</th>\n",
       "      <th>asian_ref</th>\n",
       "      <th>normalized_polarity</th>\n",
       "      <th>verified_user</th>\n",
       "      <th>polarity</th>\n",
       "    </tr>\n",
       "  </thead>\n",
       "  <tbody>\n",
       "    <tr>\n",
       "      <td>0</td>\n",
       "      <td>2020-04-14 02:31:35</td>\n",
       "      <td>b'He gets up every day? Hasn\\xe2\\x80\\x99t caug...</td>\n",
       "      <td>b'bigmusicfan71'</td>\n",
       "      <td>['coronavirus', 'COVID19', '25thAmendmentNow']</td>\n",
       "      <td>354</td>\n",
       "      <td>b''</td>\n",
       "      <td>gets every day xe2 x80 x99t caught coronavirus...</td>\n",
       "      <td>0.0</td>\n",
       "      <td>0.0000</td>\n",
       "      <td>False</td>\n",
       "      <td>0.0</td>\n",
       "    </tr>\n",
       "    <tr>\n",
       "      <td>1</td>\n",
       "      <td>2020-04-14 02:31:35</td>\n",
       "      <td>b'@Welptheresthat @NorthmanTrader Not when the...</td>\n",
       "      <td>b'GKeeto'</td>\n",
       "      <td>['china', 'ChinaMustExplain', 'ChinaVirus', 'C...</td>\n",
       "      <td>6</td>\n",
       "      <td>b''</td>\n",
       "      <td>product complete chinese made garbage accounts...</td>\n",
       "      <td>1.0</td>\n",
       "      <td>0.0000</td>\n",
       "      <td>False</td>\n",
       "      <td>0.0</td>\n",
       "    </tr>\n",
       "    <tr>\n",
       "      <td>2</td>\n",
       "      <td>2020-04-14 02:31:34</td>\n",
       "      <td>b'Holy \\xf0\\x9f\\x92\\xa9 \\xe2\\x81\\xa6@VanityFai...</td>\n",
       "      <td>b'DrumpfsLies'</td>\n",
       "      <td>['INCOMPETENCEKILLS', 'COVID19', 'coronavirus'...</td>\n",
       "      <td>230</td>\n",
       "      <td>b'California, USA'</td>\n",
       "      <td>holy scorchingly amazing incompetencekills cov...</td>\n",
       "      <td>0.0</td>\n",
       "      <td>0.5859</td>\n",
       "      <td>False</td>\n",
       "      <td>2.8</td>\n",
       "    </tr>\n",
       "    <tr>\n",
       "      <td>3</td>\n",
       "      <td>2020-04-14 02:31:32</td>\n",
       "      <td>b'This could be the end of the line for cruise...</td>\n",
       "      <td>b'1petermartin'</td>\n",
       "      <td>['COVID19', 'coronavirus', 'ausecon', 'auspol']</td>\n",
       "      <td>32382</td>\n",
       "      <td>b''</td>\n",
       "      <td>could end line cruise ships covid19 coronaviru...</td>\n",
       "      <td>0.0</td>\n",
       "      <td>0.0000</td>\n",
       "      <td>True</td>\n",
       "      <td>0.0</td>\n",
       "    </tr>\n",
       "    <tr>\n",
       "      <td>4</td>\n",
       "      <td>2020-04-14 02:31:22</td>\n",
       "      <td>b'Dear @CNN,  Can you sincerely claim @realDon...</td>\n",
       "      <td>b'WarmMonkey'</td>\n",
       "      <td>['coronavirus', 'COVID19']</td>\n",
       "      <td>651</td>\n",
       "      <td>b'Out of The Closet'</td>\n",
       "      <td>dear sincerely claim handling coronavirus cris...</td>\n",
       "      <td>0.0</td>\n",
       "      <td>0.6584</td>\n",
       "      <td>False</td>\n",
       "      <td>1.3</td>\n",
       "    </tr>\n",
       "    <tr>\n",
       "      <td>...</td>\n",
       "      <td>...</td>\n",
       "      <td>...</td>\n",
       "      <td>...</td>\n",
       "      <td>...</td>\n",
       "      <td>...</td>\n",
       "      <td>...</td>\n",
       "      <td>...</td>\n",
       "      <td>...</td>\n",
       "      <td>...</td>\n",
       "      <td>...</td>\n",
       "      <td>...</td>\n",
       "    </tr>\n",
       "    <tr>\n",
       "      <td>995</td>\n",
       "      <td>2020-04-14 01:34:17</td>\n",
       "      <td>b'@JimWTAE @WTAE And here is a third Smithfiel...</td>\n",
       "      <td>b'realhumanrights'</td>\n",
       "      <td>['Wisconsin', 'Cudahy', 'COVID19', 'coronaviru...</td>\n",
       "      <td>2853</td>\n",
       "      <td>b'Washington DC'</td>\n",
       "      <td>third smithfield food plant wisconsin cudahy 2...</td>\n",
       "      <td>0.0</td>\n",
       "      <td>0.5574</td>\n",
       "      <td>False</td>\n",
       "      <td>2.6</td>\n",
       "    </tr>\n",
       "    <tr>\n",
       "      <td>996</td>\n",
       "      <td>2020-04-14 01:34:15</td>\n",
       "      <td>b'#TruthBeTold  Abso-fucking-lutly!!!  #Heartb...</td>\n",
       "      <td>b'AltBadDude'</td>\n",
       "      <td>['TruthBeTold', 'Heartbreaking', 'trumpsameric...</td>\n",
       "      <td>1308</td>\n",
       "      <td>b'Maryland, USA'</td>\n",
       "      <td>truthbetold abso fucking lutly heartbreaking l...</td>\n",
       "      <td>0.0</td>\n",
       "      <td>-0.5829</td>\n",
       "      <td>False</td>\n",
       "      <td>-2.5</td>\n",
       "    </tr>\n",
       "    <tr>\n",
       "      <td>997</td>\n",
       "      <td>2020-04-14 01:34:15</td>\n",
       "      <td>b'Trump assembles his crew of X-Men to save us...</td>\n",
       "      <td>b'BoneKnightmare'</td>\n",
       "      <td>['EndOfDays', 'apocalypse2020', 'COVID19', 'co...</td>\n",
       "      <td>3760</td>\n",
       "      <td>b'Parts Unknown'</td>\n",
       "      <td>trump assembles crew x men save us doomed endo...</td>\n",
       "      <td>0.0</td>\n",
       "      <td>-0.2500</td>\n",
       "      <td>False</td>\n",
       "      <td>-1.0</td>\n",
       "    </tr>\n",
       "    <tr>\n",
       "      <td>998</td>\n",
       "      <td>2020-04-14 01:34:14</td>\n",
       "      <td>b'A shameful incident of Jaunpur, this is how ...</td>\n",
       "      <td>b'itemads'</td>\n",
       "      <td>['CoronaVirus', 'CoronaVirusPandemic', 'Corona...</td>\n",
       "      <td>63</td>\n",
       "      <td>b'Jeddah'</td>\n",
       "      <td>shameful incident jaunpur misuse power happens...</td>\n",
       "      <td>0.0</td>\n",
       "      <td>-0.4939</td>\n",
       "      <td>False</td>\n",
       "      <td>-2.2</td>\n",
       "    </tr>\n",
       "    <tr>\n",
       "      <td>999</td>\n",
       "      <td>2020-04-14 01:34:13</td>\n",
       "      <td>b'\\xf0\\x9f\\x94\\xa5FACT: CASES NOT DEATHS R HIG...</td>\n",
       "      <td>b'SleepyAddicts'</td>\n",
       "      <td>['coronavirus', 'COVID19', 'WHO', 'CDC', 'viru...</td>\n",
       "      <td>4150</td>\n",
       "      <td>b'Seattle'</td>\n",
       "      <td>xf0 x9f x94 xa5fact cases deaths r high 118k d...</td>\n",
       "      <td>0.0</td>\n",
       "      <td>-0.6124</td>\n",
       "      <td>False</td>\n",
       "      <td>-3.0</td>\n",
       "    </tr>\n",
       "  </tbody>\n",
       "</table>\n",
       "<p>1000 rows × 11 columns</p>\n",
       "</div>"
      ],
      "text/plain": [
       "               timestamp                                         tweet_text  \\\n",
       "0    2020-04-14 02:31:35  b'He gets up every day? Hasn\\xe2\\x80\\x99t caug...   \n",
       "1    2020-04-14 02:31:35  b'@Welptheresthat @NorthmanTrader Not when the...   \n",
       "2    2020-04-14 02:31:34  b'Holy \\xf0\\x9f\\x92\\xa9 \\xe2\\x81\\xa6@VanityFai...   \n",
       "3    2020-04-14 02:31:32  b'This could be the end of the line for cruise...   \n",
       "4    2020-04-14 02:31:22  b'Dear @CNN,  Can you sincerely claim @realDon...   \n",
       "..                   ...                                                ...   \n",
       "995  2020-04-14 01:34:17  b'@JimWTAE @WTAE And here is a third Smithfiel...   \n",
       "996  2020-04-14 01:34:15  b'#TruthBeTold  Abso-fucking-lutly!!!  #Heartb...   \n",
       "997  2020-04-14 01:34:15  b'Trump assembles his crew of X-Men to save us...   \n",
       "998  2020-04-14 01:34:14  b'A shameful incident of Jaunpur, this is how ...   \n",
       "999  2020-04-14 01:34:13  b'\\xf0\\x9f\\x94\\xa5FACT: CASES NOT DEATHS R HIG...   \n",
       "\n",
       "               username                                       all_hashtags  \\\n",
       "0      b'bigmusicfan71'     ['coronavirus', 'COVID19', '25thAmendmentNow']   \n",
       "1             b'GKeeto'  ['china', 'ChinaMustExplain', 'ChinaVirus', 'C...   \n",
       "2        b'DrumpfsLies'  ['INCOMPETENCEKILLS', 'COVID19', 'coronavirus'...   \n",
       "3       b'1petermartin'    ['COVID19', 'coronavirus', 'ausecon', 'auspol']   \n",
       "4         b'WarmMonkey'                         ['coronavirus', 'COVID19']   \n",
       "..                  ...                                                ...   \n",
       "995  b'realhumanrights'  ['Wisconsin', 'Cudahy', 'COVID19', 'coronaviru...   \n",
       "996       b'AltBadDude'  ['TruthBeTold', 'Heartbreaking', 'trumpsameric...   \n",
       "997   b'BoneKnightmare'  ['EndOfDays', 'apocalypse2020', 'COVID19', 'co...   \n",
       "998          b'itemads'  ['CoronaVirus', 'CoronaVirusPandemic', 'Corona...   \n",
       "999    b'SleepyAddicts'  ['coronavirus', 'COVID19', 'WHO', 'CDC', 'viru...   \n",
       "\n",
       "     followers_count              location  \\\n",
       "0                354                   b''   \n",
       "1                  6                   b''   \n",
       "2                230    b'California, USA'   \n",
       "3              32382                   b''   \n",
       "4                651  b'Out of The Closet'   \n",
       "..               ...                   ...   \n",
       "995             2853      b'Washington DC'   \n",
       "996             1308      b'Maryland, USA'   \n",
       "997             3760      b'Parts Unknown'   \n",
       "998               63             b'Jeddah'   \n",
       "999             4150            b'Seattle'   \n",
       "\n",
       "                                            clean_text  asian_ref  \\\n",
       "0    gets every day xe2 x80 x99t caught coronavirus...        0.0   \n",
       "1    product complete chinese made garbage accounts...        1.0   \n",
       "2    holy scorchingly amazing incompetencekills cov...        0.0   \n",
       "3    could end line cruise ships covid19 coronaviru...        0.0   \n",
       "4    dear sincerely claim handling coronavirus cris...        0.0   \n",
       "..                                                 ...        ...   \n",
       "995  third smithfield food plant wisconsin cudahy 2...        0.0   \n",
       "996  truthbetold abso fucking lutly heartbreaking l...        0.0   \n",
       "997  trump assembles crew x men save us doomed endo...        0.0   \n",
       "998  shameful incident jaunpur misuse power happens...        0.0   \n",
       "999  xf0 x9f x94 xa5fact cases deaths r high 118k d...        0.0   \n",
       "\n",
       "     normalized_polarity  verified_user  polarity  \n",
       "0                 0.0000          False       0.0  \n",
       "1                 0.0000          False       0.0  \n",
       "2                 0.5859          False       2.8  \n",
       "3                 0.0000           True       0.0  \n",
       "4                 0.6584          False       1.3  \n",
       "..                   ...            ...       ...  \n",
       "995               0.5574          False       2.6  \n",
       "996              -0.5829          False      -2.5  \n",
       "997              -0.2500          False      -1.0  \n",
       "998              -0.4939          False      -2.2  \n",
       "999              -0.6124          False      -3.0  \n",
       "\n",
       "[1000 rows x 11 columns]"
      ]
     },
     "execution_count": 10,
     "metadata": {},
     "output_type": "execute_result"
    }
   ],
   "source": [
    "# Updated tweets DataFrame with additional clean_text, polarity, normalized_polarity, and verified_user columns\n",
    "tweets_df"
   ]
  },
  {
   "cell_type": "markdown",
   "metadata": {},
   "source": [
    "## A closer look at the most positive and negative tweets:\n",
    "\n",
    "### Top 5 Most Positive:"
   ]
  },
  {
   "cell_type": "code",
   "execution_count": 11,
   "metadata": {
    "scrolled": false
   },
   "outputs": [
    {
     "name": "stdout",
     "output_type": "stream",
     "text": [
      "Most positive tweets regarding #Coronavirus and #Covid19:\n",
      "\n",
      "Polarity:  4.7 \n",
      "Tweet Text:  b'@peterbakernyt #COVID19 #CoronaVirus #Corona #SARSCoV2 #Corona19  \\xf0\\x9f\\x98\\xb7   Lol  Approximately 1.4 billion Chinese around the world call it \\xe2\\x80\\x9cWuhan pneumonia\\xe2\\x80\\x9d   \\xe6\\xad\\xa6\\xe6\\xb1\\x89\\xe8\\x82\\xba\\xe7\\x82\\x8e  There\\xe2\\x80\\x99s your Chinese lesson for today.  \\xf0\\x9f\\xa6\\xa0'\n",
      "\n",
      "Polarity:  3.4 \n",
      "Tweet Text:  b'#Japan offers $2.2B to help domestic companies move production from #China, but will it help the imaging industry? https://t.co/SdNdcPG2TC #Coronavirus #Covid19 #economy'\n",
      "\n",
      "Polarity:  3.3000000000000003 \n",
      "Tweet Text:  b'These Asian artists are using their lockdown downtime to create music inspired by the coronavirus.  #COVID19 #coronavirus #lockdown #quarantine'\n",
      "\n",
      "Polarity:  3.1 \n",
      "Tweet Text:  b'CORONAVIRUS UPDATE:  STUNNING! US Gave Wuhan Lab $3.7 Million Grant to Study Horseshoe Bats that Carry Coronavirus #COVID19 #COVID2019 #coronavirus #COVID #Covid19usa #CoronavirusUSA #CoronavirusPandemic #ChinaVirus #ChineseVirus19 #ChinaLiedAndPeopleDied  https://t.co/0wWXa5Poi9'\n",
      "\n",
      "Polarity:  3.1 \n",
      "Tweet Text:  b'@realDonaldTrump CORONAVIRUS UPDATE:  STUNNING! US Gave Wuhan Lab $3.7 Million Grant to Study Horseshoe Bats that Carry Coronavirus #COVID19 #COVID2019 #coronavirus #COVID #Covid19usa #CoronavirusUSA #CoronavirusPandemic #ChinaVirus #ChineseVirus19 https://t.co/0wWXa5Poi9'\n"
     ]
    }
   ],
   "source": [
    "tweets_asian = pd.DataFrame(tweets_df[tweets_df['asian_ref'] == 1.0])\n",
    "print('Most positive tweets regarding #Coronavirus and #Covid19:')\n",
    "t = tweets_asian.sort_values(by = ['polarity'], ascending=False)[['polarity', 'tweet_text']].head(5).reset_index()\n",
    "for i in range(len(t)):\n",
    "    print('\\nPolarity: ', t['polarity'][i], \"\\nTweet Text: \", t['tweet_text'][i])"
   ]
  },
  {
   "cell_type": "markdown",
   "metadata": {},
   "source": [
    "### Top 5 Most Negative"
   ]
  },
  {
   "cell_type": "code",
   "execution_count": 12,
   "metadata": {},
   "outputs": [
    {
     "name": "stdout",
     "output_type": "stream",
     "text": [
      "Most negative tweets regarding #Coronavirus and #Covid19:\n",
      "\n",
      "Polarity:  -10.2 \n",
      "Tweet Text:  b'When Chinese are accusing Taiwanese of racial abuse to Tedros, they are even more racist to people with dark skin. How ironic. #fuckchina #wuhanvirus #chinavirus #ccpvirus #COVID19 #coronavirus #cardib #bitch https://t.co/ntEj8vgCki'\n",
      "\n",
      "Polarity:  -6.6 \n",
      "Tweet Text:  b'The death rate in Italy, Spain and France - three of the countries worst-affected by the coronavirus - appears to be slowing.  #coronavirus #CoronaOutbreak #Wuhan #China #COVID19 #India #COVID #CoronaVirusUpdate #ChineseVirus #WuhanVirus #US #Italy #Spain #Germany #France'\n",
      "\n",
      "Polarity:  -5.2 \n",
      "Tweet Text:  b'Fighting fake news: The new front in the coronavirus battle @AJENews   #coronavirus  #CoronaOutbreak #Wuhan #China #COVID19 #India #COVID #CoronaVirusUpdate #ChineseVirus #WuhanVirus #US #Italy #Spain #Germany #France #UK #Iran #WHO #FakeNews    https://t.co/Ks4lKhlxsL'\n",
      "\n",
      "Polarity:  -3.8 \n",
      "Tweet Text:  b\"#Trump claims 'total authority' and attacks media in chaotic coronavirus briefing   #coronavirus #coronarvirues #CoronaOutbreak #Wuhan #China #COVID19 #COVID #CoronaVirusUpdate #ChineseVirus #WuhanVirus #US   https://t.co/XS95nJYODJ\"\n",
      "\n",
      "Polarity:  -3.6000000000000005 \n",
      "Tweet Text:  b'The CNN has alot of Trump supporters mad \\xf0\\x9f\\xa4\\x94\\xf0\\x9f\\x98\\x82  Q: What was Trump doing in Feb? Having rallies , golfing ... Feb 7 th gave 17 tons of PPE to China without restocking/replacing PPE \\xf0\\x9f\\xa4\\x94 calling #COVID19 a hoax blaming the media ... #TrumpMeltdown #PressBriefing #coronavirus #UBI'\n"
     ]
    }
   ],
   "source": [
    "print('Most negative tweets regarding #Coronavirus and #Covid19:')\n",
    "t = tweets_asian.sort_values(by = ['polarity'], ascending=True)[['polarity', 'tweet_text']].head(5).reset_index()\n",
    "for i in range(len(t)):\n",
    "    print('\\nPolarity: ', t['polarity'][i], \"\\nTweet Text: \", t['tweet_text'][i])"
   ]
  },
  {
   "cell_type": "markdown",
   "metadata": {},
   "source": [
    "# Distribution of Tweet Polarities:\n",
    "Median of all distributions below is equal to 0."
   ]
  },
  {
   "cell_type": "markdown",
   "metadata": {},
   "source": [
    "### Distribution of All Tweet Polarities:"
   ]
  },
  {
   "cell_type": "code",
   "execution_count": 13,
   "metadata": {},
   "outputs": [
    {
     "data": {
      "text/plain": [
       "0.1592"
      ]
     },
     "execution_count": 13,
     "metadata": {},
     "output_type": "execute_result"
    }
   ],
   "source": [
    "max(tweets_df['polarity'])\n",
    "mean_all = (mean(tweets_df['polarity']))\n",
    "mean_all"
   ]
  },
  {
   "cell_type": "code",
   "execution_count": 14,
   "metadata": {},
   "outputs": [
    {
     "data": {
      "image/png": "[encoded data removed]",
      "text/plain": [
       "<Figure size 432x288 with 1 Axes>"
      ]
     },
     "metadata": {
      "needs_background": "light"
     },
     "output_type": "display_data"
    }
   ],
   "source": [
    "sns.distplot(tweets_df['polarity'])\n",
    "plt.title('Distributions of Coronavirus/Covid19 Tweet Polarities')\n",
    "plt.xlim(-12,11)\n",
    "plt.plot(mean_all, 0, 'ro')\n",
    "plt.annotate(\"mean\", (mean_all, 0), textcoords=\"offset points\", xytext=(0,10));"
   ]
  },
  {
   "cell_type": "markdown",
   "metadata": {},
   "source": [
    "### Distribution of Tweet Polarities with Asian References:"
   ]
  },
  {
   "cell_type": "code",
   "execution_count": 483,
   "metadata": {},
   "outputs": [
    {
     "name": "stdout",
     "output_type": "stream",
     "text": [
      "<class 'pandas.core.frame.DataFrame'>\n"
     ]
    },
    {
     "data": {
      "text/plain": [
       "-0.5194444444444444"
      ]
     },
     "execution_count": 483,
     "metadata": {},
     "output_type": "execute_result"
    }
   ],
   "source": [
    "# Selecting all tweets with asian reference\n",
    "asian_ref_tweets = tweets_df.loc[tweets_df['asian_ref'] == 1.0]\n",
    "mean_asian = (mean(asian_ref_tweets['polarity']))\n",
    "mean_asian"
   ]
  },
  {
   "cell_type": "code",
   "execution_count": 16,
   "metadata": {
    "scrolled": true
   },
   "outputs": [
    {
     "data": {
      "image/png": "[encoded data removed]",
      "text/plain": [
       "<Figure size 432x288 with 1 Axes>"
      ]
     },
     "metadata": {
      "needs_background": "light"
     },
     "output_type": "display_data"
    }
   ],
   "source": [
    "sns.distplot(asian_ref_tweets['polarity'])\n",
    "plt.title('Distributions of Coronavirus/Covid19 With Asian Reference Tweet Polarities')\n",
    "plt.xlim(-12,11)\n",
    "plt.plot(mean_asian, 0, 'ro')\n",
    "plt.annotate(\"mean\", (mean_asian, 0), textcoords=\"offset points\", xytext=(0,10));"
   ]
  },
  {
   "cell_type": "markdown",
   "metadata": {},
   "source": [
    "### Combining Distribution of Tweet Polarities With/Without Asian References:"
   ]
  },
  {
   "cell_type": "code",
   "execution_count": 17,
   "metadata": {},
   "outputs": [
    {
     "name": "stdout",
     "output_type": "stream",
     "text": [
      "mean_no_asian:  0.21185344827586206\n",
      "mean_asian:  -0.5194444444444444\n"
     ]
    }
   ],
   "source": [
    "mean_no_asian = mean(tweets_df.loc[tweets_df['asian_ref'] == 0.0]['polarity'])\n",
    "print(\"mean_no_asian: \", mean_no_asian)\n",
    "print(\"mean_asian: \", mean_asian)"
   ]
  },
  {
   "cell_type": "code",
   "execution_count": 18,
   "metadata": {},
   "outputs": [
    {
     "data": {
      "text/plain": [
       "[<matplotlib.lines.Line2D at 0x11fd6df10>]"
      ]
     },
     "execution_count": 18,
     "metadata": {},
     "output_type": "execute_result"
    },
    {
     "data": {
      "image/png": "[encoded data removed]",
      "text/plain": [
       "<Figure size 432x288 with 1 Axes>"
      ]
     },
     "metadata": {
      "needs_background": "light"
     },
     "output_type": "display_data"
    }
   ],
   "source": [
    "sns.distplot(tweets_df[tweets_df['asian_ref'] == 1.0]['polarity'])\n",
    "sns.distplot(tweets_df[tweets_df['asian_ref'] == 0.0]['polarity'])\n",
    "plt.legend(['with', 'without'])\n",
    "plt.title('Distributions of Tweet Polarities (Asian References With/Without)')\n",
    "plt.plot(mean_asian, 0, 'bo')\n",
    "plt.plot(mean_no_asian, 0, 'ro')"
   ]
  },
  {
   "cell_type": "code",
   "execution_count": 19,
   "metadata": {},
   "outputs": [
    {
     "name": "stdout",
     "output_type": "stream",
     "text": [
      "41\n",
      "31\n",
      "Positive\n"
     ]
    }
   ],
   "source": [
    "asian_ref = tweets_df.loc[tweets_df['asian_ref'] == 1.0]['polarity'] < 0\n",
    "pos_asian = pd.Series(asian_ref).where(lambda x: x == False).dropna()\n",
    "neg_asian = pd.Series(asian_ref).where(lambda x: x == True).dropna()\n",
    "if (len(pos_asian) - len(neg_asian)) < 0:\n",
    "    asian_sentiment = \"Negative\"\n",
    "else:\n",
    "    asian_sentiment = \"Positive\"\n",
    "\n",
    "print(len(pos_asian))\n",
    "print(len(neg_asian))\n",
    "print(asian_sentiment)\n",
    "#sum_asian = sum(tweets_df.loc[tweets_df['asian_ref'] == 1.0]['polarity'])\n",
    "#print(\"sum_no_asian: \", sum_no_asian)\n",
    "#print(\"sum_asian: \",sum_asian)\n",
    "\n",
    "#no_asian_ref = tweets_df.loc[tweets_df['asian_ref'] == 0.0]['polarity'] < 0\n",
    "#neg_no_asian = pd.Series(no_asian_ref).where(lambda x: x == True).dropna()\n",
    "\n",
    "#print(len(neg_asian))\n",
    "#print(len(neg_no_asian))"
   ]
  },
  {
   "cell_type": "markdown",
   "metadata": {},
   "source": [
    "### Distribution of Tweet Polarities (Verified Users VS. Normal Users)\n",
    "Verified users have a high follower count and, consequently, can reach (and may or may not impact) a greater audience than non-verified users (as we call 'normal' users) of Twitter. Therefore, we are interested in comparing the polarity distribution of tweets posted verified users VS. normal users."
   ]
  },
  {
   "cell_type": "code",
   "execution_count": 62,
   "metadata": {},
   "outputs": [
    {
     "data": {
      "text/plain": [
       "Text(0.5, 1.0, 'Distributions of Tweet Polarities (Verified Users vs. Normal Users)')"
      ]
     },
     "execution_count": 62,
     "metadata": {},
     "output_type": "execute_result"
    },
    {
     "data": {
      "image/png": "[encoded data removed]",
      "text/plain": [
       "<Figure size 432x288 with 1 Axes>"
      ]
     },
     "metadata": {
      "needs_background": "light"
     },
     "output_type": "display_data"
    }
   ],
   "source": [
    "sns.distplot(tweets_df[tweets_df['verified_user'] == True]['polarity'])\n",
    "sns.distplot(tweets_df[tweets_df['verified_user'] == False]['polarity'])\n",
    "plt.legend(['verified', 'normal'])\n",
    "plt.title('Distributions of Tweet Polarities (Verified Users vs. Normal Users)')"
   ]
  },
  {
   "cell_type": "markdown",
   "metadata": {},
   "source": [
    "# Determining Correlation Between Mean Polarity Scores and # of Coronavirus Cases Per State:"
   ]
  },
  {
   "cell_type": "markdown",
   "metadata": {},
   "source": [
    "### Importing coronavirus case counts for each US state:"
   ]
  },
  {
   "cell_type": "code",
   "execution_count": 489,
   "metadata": {},
   "outputs": [
    {
     "data": {
      "text/html": [
       "<div>\n",
       "<style scoped>\n",
       "    .dataframe tbody tr th:only-of-type {\n",
       "        vertical-align: middle;\n",
       "    }\n",
       "\n",
       "    .dataframe tbody tr th {\n",
       "        vertical-align: top;\n",
       "    }\n",
       "\n",
       "    .dataframe thead th {\n",
       "        text-align: right;\n",
       "    }\n",
       "</style>\n",
       "<table border=\"1\" class=\"dataframe\">\n",
       "  <thead>\n",
       "    <tr style=\"text-align: right;\">\n",
       "      <th></th>\n",
       "      <th>date</th>\n",
       "      <th>state</th>\n",
       "      <th>fips</th>\n",
       "      <th>cases</th>\n",
       "      <th>deaths</th>\n",
       "    </tr>\n",
       "  </thead>\n",
       "  <tbody>\n",
       "    <tr>\n",
       "      <td>2330</td>\n",
       "      <td>2020-04-14</td>\n",
       "      <td>Alabama</td>\n",
       "      <td>01</td>\n",
       "      <td>3953</td>\n",
       "      <td>114</td>\n",
       "    </tr>\n",
       "    <tr>\n",
       "      <td>2331</td>\n",
       "      <td>2020-04-14</td>\n",
       "      <td>Alaska</td>\n",
       "      <td>02</td>\n",
       "      <td>283</td>\n",
       "      <td>7</td>\n",
       "    </tr>\n",
       "    <tr>\n",
       "      <td>2332</td>\n",
       "      <td>2020-04-14</td>\n",
       "      <td>American Samoa</td>\n",
       "      <td>60</td>\n",
       "      <td>0</td>\n",
       "      <td>0</td>\n",
       "    </tr>\n",
       "    <tr>\n",
       "      <td>2333</td>\n",
       "      <td>2020-04-14</td>\n",
       "      <td>Arizona</td>\n",
       "      <td>04</td>\n",
       "      <td>3806</td>\n",
       "      <td>131</td>\n",
       "    </tr>\n",
       "    <tr>\n",
       "      <td>2334</td>\n",
       "      <td>2020-04-14</td>\n",
       "      <td>Arkansas</td>\n",
       "      <td>05</td>\n",
       "      <td>1498</td>\n",
       "      <td>32</td>\n",
       "    </tr>\n",
       "  </tbody>\n",
       "</table>\n",
       "</div>"
      ],
      "text/plain": [
       "            date           state fips cases deaths\n",
       "2330  2020-04-14         Alabama   01  3953    114\n",
       "2331  2020-04-14          Alaska   02   283      7\n",
       "2332  2020-04-14  American Samoa   60     0      0\n",
       "2333  2020-04-14         Arizona   04  3806    131\n",
       "2334  2020-04-14        Arkansas   05  1498     32"
      ]
     },
     "execution_count": 489,
     "metadata": {},
     "output_type": "execute_result"
    }
   ],
   "source": [
    "state_virus_counts = pd.read_csv('us_states_virus_count.csv', \n",
    "                   sep=',',\n",
    "                   names=['date', 'state','fips','cases','deaths'])\n",
    "state_virus_counts['cases'] = list((state_virus_counts['cases']))\n",
    "\n",
    "for i in range(len(state_virus_counts['cases'])-1):\n",
    "    i+=1\n",
    "    state_virus_counts.at[i, 'cases'] = int(state_virus_counts['cases'][i])\n",
    "virus_counts = state_virus_counts[state_virus_counts['date']==\"2020-04-14\"].drop_duplicates()\n",
    "virus_counts.head()"
   ]
  },
  {
   "cell_type": "markdown",
   "metadata": {},
   "source": [
    "### Organizing all cities, counties, and states of US:"
   ]
  },
  {
   "cell_type": "code",
   "execution_count": 260,
   "metadata": {},
   "outputs": [],
   "source": [
    "us_states_counties = pd.read_csv('us_cities_states_counties_data.csv', \n",
    "                   sep='\\t',\n",
    "                   usecols=[0], \n",
    "                   names=['data'])"
   ]
  },
  {
   "cell_type": "code",
   "execution_count": 261,
   "metadata": {
    "scrolled": true
   },
   "outputs": [
    {
     "data": {
      "text/html": [
       "<div>\n",
       "<style scoped>\n",
       "    .dataframe tbody tr th:only-of-type {\n",
       "        vertical-align: middle;\n",
       "    }\n",
       "\n",
       "    .dataframe tbody tr th {\n",
       "        vertical-align: top;\n",
       "    }\n",
       "\n",
       "    .dataframe thead th {\n",
       "        text-align: right;\n",
       "    }\n",
       "</style>\n",
       "<table border=\"1\" class=\"dataframe\">\n",
       "  <thead>\n",
       "    <tr style=\"text-align: right;\">\n",
       "      <th></th>\n",
       "      <th>data</th>\n",
       "      <th>City</th>\n",
       "      <th>State_short</th>\n",
       "      <th>State_full</th>\n",
       "      <th>County</th>\n",
       "      <th>City_alias</th>\n",
       "      <th>lower_city</th>\n",
       "      <th>lower_state_short</th>\n",
       "      <th>lower_state_full</th>\n",
       "      <th>lower_county</th>\n",
       "      <th>lower_city_alias</th>\n",
       "    </tr>\n",
       "  </thead>\n",
       "  <tbody>\n",
       "    <tr>\n",
       "      <td>0</td>\n",
       "      <td>City,State_short,State full,County,City alias</td>\n",
       "      <td>City</td>\n",
       "      <td>State_short</td>\n",
       "      <td>State full</td>\n",
       "      <td>County</td>\n",
       "      <td>City alias</td>\n",
       "      <td>city</td>\n",
       "      <td>state_short</td>\n",
       "      <td>state full</td>\n",
       "      <td>county</td>\n",
       "      <td>city alias</td>\n",
       "    </tr>\n",
       "    <tr>\n",
       "      <td>1</td>\n",
       "      <td>Holtsville,NY,New York,SUFFOLK,Internal Revenu...</td>\n",
       "      <td>Holtsville</td>\n",
       "      <td>NY</td>\n",
       "      <td>New York</td>\n",
       "      <td>SUFFOLK</td>\n",
       "      <td>Internal Revenue Service</td>\n",
       "      <td>holtsville</td>\n",
       "      <td>ny</td>\n",
       "      <td>new york</td>\n",
       "      <td>suffolk</td>\n",
       "      <td>internal revenue service</td>\n",
       "    </tr>\n",
       "    <tr>\n",
       "      <td>2</td>\n",
       "      <td>Holtsville,NY,New York,SUFFOLK,Holtsville</td>\n",
       "      <td>Holtsville</td>\n",
       "      <td>NY</td>\n",
       "      <td>New York</td>\n",
       "      <td>SUFFOLK</td>\n",
       "      <td>Holtsville</td>\n",
       "      <td>holtsville</td>\n",
       "      <td>ny</td>\n",
       "      <td>new york</td>\n",
       "      <td>suffolk</td>\n",
       "      <td>holtsville</td>\n",
       "    </tr>\n",
       "    <tr>\n",
       "      <td>3</td>\n",
       "      <td>Agawam,MA,Massachusetts,HAMPDEN,Agawam</td>\n",
       "      <td>Agawam</td>\n",
       "      <td>MA</td>\n",
       "      <td>Massachusetts</td>\n",
       "      <td>HAMPDEN</td>\n",
       "      <td>Agawam</td>\n",
       "      <td>agawam</td>\n",
       "      <td>ma</td>\n",
       "      <td>massachusetts</td>\n",
       "      <td>hampden</td>\n",
       "      <td>agawam</td>\n",
       "    </tr>\n",
       "    <tr>\n",
       "      <td>4</td>\n",
       "      <td>Amherst,MA,Massachusetts,HAMPSHIRE,Amherst</td>\n",
       "      <td>Amherst</td>\n",
       "      <td>MA</td>\n",
       "      <td>Massachusetts</td>\n",
       "      <td>HAMPSHIRE</td>\n",
       "      <td>Amherst</td>\n",
       "      <td>amherst</td>\n",
       "      <td>ma</td>\n",
       "      <td>massachusetts</td>\n",
       "      <td>hampshire</td>\n",
       "      <td>amherst</td>\n",
       "    </tr>\n",
       "    <tr>\n",
       "      <td>...</td>\n",
       "      <td>...</td>\n",
       "      <td>...</td>\n",
       "      <td>...</td>\n",
       "      <td>...</td>\n",
       "      <td>...</td>\n",
       "      <td>...</td>\n",
       "      <td>...</td>\n",
       "      <td>...</td>\n",
       "      <td>...</td>\n",
       "      <td>...</td>\n",
       "      <td>...</td>\n",
       "    </tr>\n",
       "    <tr>\n",
       "      <td>60512</td>\n",
       "      <td>Klawock,AK,Alaska,PRINCE OF WALES HYDER,Klawock</td>\n",
       "      <td>Klawock</td>\n",
       "      <td>AK</td>\n",
       "      <td>Alaska</td>\n",
       "      <td>PRINCE OF WALES HYDER</td>\n",
       "      <td>Klawock</td>\n",
       "      <td>klawock</td>\n",
       "      <td>ak</td>\n",
       "      <td>alaska</td>\n",
       "      <td>prince of wales hyder</td>\n",
       "      <td>klawock</td>\n",
       "    </tr>\n",
       "    <tr>\n",
       "      <td>60513</td>\n",
       "      <td>Metlakatla,AK,Alaska,PRINCE OF WALES HYDER,Met...</td>\n",
       "      <td>Metlakatla</td>\n",
       "      <td>AK</td>\n",
       "      <td>Alaska</td>\n",
       "      <td>PRINCE OF WALES HYDER</td>\n",
       "      <td>Metlakatla</td>\n",
       "      <td>metlakatla</td>\n",
       "      <td>ak</td>\n",
       "      <td>alaska</td>\n",
       "      <td>prince of wales hyder</td>\n",
       "      <td>metlakatla</td>\n",
       "    </tr>\n",
       "    <tr>\n",
       "      <td>60514</td>\n",
       "      <td>Point Baker,AK,Alaska,PRINCE OF WALES HYDER,Po...</td>\n",
       "      <td>Point Baker</td>\n",
       "      <td>AK</td>\n",
       "      <td>Alaska</td>\n",
       "      <td>PRINCE OF WALES HYDER</td>\n",
       "      <td>Point Baker</td>\n",
       "      <td>point baker</td>\n",
       "      <td>ak</td>\n",
       "      <td>alaska</td>\n",
       "      <td>prince of wales hyder</td>\n",
       "      <td>point baker</td>\n",
       "    </tr>\n",
       "    <tr>\n",
       "      <td>60515</td>\n",
       "      <td>Ward Cove,AK,Alaska,KETCHIKAN GATEWAY,Ward Cove</td>\n",
       "      <td>Ward Cove</td>\n",
       "      <td>AK</td>\n",
       "      <td>Alaska</td>\n",
       "      <td>KETCHIKAN GATEWAY</td>\n",
       "      <td>Ward Cove</td>\n",
       "      <td>ward cove</td>\n",
       "      <td>ak</td>\n",
       "      <td>alaska</td>\n",
       "      <td>ketchikan gateway</td>\n",
       "      <td>ward cove</td>\n",
       "    </tr>\n",
       "    <tr>\n",
       "      <td>60516</td>\n",
       "      <td>Wrangell,AK,Alaska,WRANGELL,Wrangell</td>\n",
       "      <td>Wrangell</td>\n",
       "      <td>AK</td>\n",
       "      <td>Alaska</td>\n",
       "      <td>WRANGELL</td>\n",
       "      <td>Wrangell</td>\n",
       "      <td>wrangell</td>\n",
       "      <td>ak</td>\n",
       "      <td>alaska</td>\n",
       "      <td>wrangell</td>\n",
       "      <td>wrangell</td>\n",
       "    </tr>\n",
       "  </tbody>\n",
       "</table>\n",
       "<p>60517 rows × 11 columns</p>\n",
       "</div>"
      ],
      "text/plain": [
       "                                                    data         City  \\\n",
       "0          City,State_short,State full,County,City alias         City   \n",
       "1      Holtsville,NY,New York,SUFFOLK,Internal Revenu...   Holtsville   \n",
       "2              Holtsville,NY,New York,SUFFOLK,Holtsville   Holtsville   \n",
       "3                 Agawam,MA,Massachusetts,HAMPDEN,Agawam       Agawam   \n",
       "4             Amherst,MA,Massachusetts,HAMPSHIRE,Amherst      Amherst   \n",
       "...                                                  ...          ...   \n",
       "60512    Klawock,AK,Alaska,PRINCE OF WALES HYDER,Klawock      Klawock   \n",
       "60513  Metlakatla,AK,Alaska,PRINCE OF WALES HYDER,Met...   Metlakatla   \n",
       "60514  Point Baker,AK,Alaska,PRINCE OF WALES HYDER,Po...  Point Baker   \n",
       "60515    Ward Cove,AK,Alaska,KETCHIKAN GATEWAY,Ward Cove    Ward Cove   \n",
       "60516               Wrangell,AK,Alaska,WRANGELL,Wrangell     Wrangell   \n",
       "\n",
       "       State_short     State_full                 County  \\\n",
       "0      State_short     State full                 County   \n",
       "1               NY       New York                SUFFOLK   \n",
       "2               NY       New York                SUFFOLK   \n",
       "3               MA  Massachusetts                HAMPDEN   \n",
       "4               MA  Massachusetts              HAMPSHIRE   \n",
       "...            ...            ...                    ...   \n",
       "60512           AK         Alaska  PRINCE OF WALES HYDER   \n",
       "60513           AK         Alaska  PRINCE OF WALES HYDER   \n",
       "60514           AK         Alaska  PRINCE OF WALES HYDER   \n",
       "60515           AK         Alaska      KETCHIKAN GATEWAY   \n",
       "60516           AK         Alaska               WRANGELL   \n",
       "\n",
       "                     City_alias   lower_city lower_state_short  \\\n",
       "0                    City alias         city       state_short   \n",
       "1      Internal Revenue Service   holtsville                ny   \n",
       "2                    Holtsville   holtsville                ny   \n",
       "3                        Agawam       agawam                ma   \n",
       "4                       Amherst      amherst                ma   \n",
       "...                         ...          ...               ...   \n",
       "60512                   Klawock      klawock                ak   \n",
       "60513                Metlakatla   metlakatla                ak   \n",
       "60514               Point Baker  point baker                ak   \n",
       "60515                 Ward Cove    ward cove                ak   \n",
       "60516                  Wrangell     wrangell                ak   \n",
       "\n",
       "      lower_state_full           lower_county          lower_city_alias  \n",
       "0           state full                 county                city alias  \n",
       "1             new york                suffolk  internal revenue service  \n",
       "2             new york                suffolk                holtsville  \n",
       "3        massachusetts                hampden                    agawam  \n",
       "4        massachusetts              hampshire                   amherst  \n",
       "...                ...                    ...                       ...  \n",
       "60512           alaska  prince of wales hyder                   klawock  \n",
       "60513           alaska  prince of wales hyder                metlakatla  \n",
       "60514           alaska  prince of wales hyder               point baker  \n",
       "60515           alaska      ketchikan gateway                 ward cove  \n",
       "60516           alaska               wrangell                  wrangell  \n",
       "\n",
       "[60517 rows x 11 columns]"
      ]
     },
     "execution_count": 261,
     "metadata": {},
     "output_type": "execute_result"
    }
   ],
   "source": [
    "for i in range(len(us_states_counties['data'])):\n",
    "    split_list = us_states_counties['data'][i].split(',')\n",
    "    \n",
    "    us_states_counties.at[i, \"City\"] = split_list[0]\n",
    "    us_states_counties.at[i, \"State_short\"] = split_list[1]\n",
    "    us_states_counties.at[i, \"State_full\"] = split_list[2]\n",
    "    us_states_counties.at[i, \"County\"] = split_list[3]\n",
    "    us_states_counties.at[i, \"City_alias\"] = split_list[4]\n",
    "    us_states_counties.at[i, \"lower_city\"] = split_list[0].lower()\n",
    "    us_states_counties.at[i, \"lower_state_short\"] = split_list[1].lower()\n",
    "    us_states_counties.at[i, \"lower_state_full\"] = split_list[2].lower()\n",
    "    us_states_counties.at[i, \"lower_county\"] = split_list[3].lower()\n",
    "    us_states_counties.at[i, \"lower_city_alias\"] = split_list[4].lower()\n",
    "    \n",
    "    #split_list.extend([split_list[0].lower(), split_list[1].lower(), split_list[2].lower(), split_list[3].lower(), split_list[4].lower()])\n",
    "    #us_states_counties.at[i, \"state_county_list\"] = split_list\n",
    "    \n",
    "us_states_counties.head()"
   ]
  },
  {
   "cell_type": "markdown",
   "metadata": {},
   "source": [
    "### Importing major city names\n",
    "Major city names and states are used to determine the location of each tweet"
   ]
  },
  {
   "cell_type": "code",
   "execution_count": 377,
   "metadata": {},
   "outputs": [],
   "source": [
    "major_cities = pd.read_csv('city_names.txt', \n",
    "                   sep='\\t',\n",
    "                   usecols=[0], \n",
    "                   names=['City'])"
   ]
  },
  {
   "cell_type": "markdown",
   "metadata": {},
   "source": [
    "### Importing shapefile to create map:"
   ]
  },
  {
   "cell_type": "code",
   "execution_count": 517,
   "metadata": {},
   "outputs": [
    {
     "data": {
      "text/plain": [
       "<matplotlib.axes._subplots.AxesSubplot at 0x14820c090>"
      ]
     },
     "execution_count": 517,
     "metadata": {},
     "output_type": "execute_result"
    },
    {
     "data": {
      "image/png": "[encoded data removed]",
      "text/plain": [
       "<Figure size 432x288 with 1 Axes>"
      ]
     },
     "metadata": {
      "needs_background": "light"
     },
     "output_type": "display_data"
    }
   ],
   "source": [
    "usa = gpd.read_file('states.shp')\n",
    "usa.plot()"
   ]
  },
  {
   "cell_type": "markdown",
   "metadata": {},
   "source": [
    "### Analyzing Tweets with Asian references:"
   ]
  },
  {
   "cell_type": "code",
   "execution_count": 485,
   "metadata": {},
   "outputs": [],
   "source": [
    "# Selecting tweets with valid US locations (by major city names and state)\n",
    "\n",
    "loc = asian_ref_tweets.groupby('location')[['location', 'polarity']].first()['location']\n",
    "pol = asian_ref_tweets.groupby('location')[['location', 'polarity']].first()['polarity']\n",
    "dict = {'loc':loc, 'polarity':pol}\n",
    "loc_pol_asian_ref = pd.DataFrame(dict).reset_index()[['loc','polarity']]\n",
    "\n",
    "cities_states = major_cities.merge(us_states_counties, how='left')\n",
    "cities_states.drop(['County', 'lower_county', 'City_alias', 'lower_city_alias', 'data'], axis=1).drop_duplicates()\n",
    "states_df = cities_states[['State_short', 'State_full','City','lower_state_short', 'lower_state_full','lower_city']].drop_duplicates().reset_index()\n",
    "\n",
    "for i in range(len(loc_pol_asian_ref)):\n",
    "    cleaned = clean_tweet(loc_pol_asian_ref['loc'][i][1:])\n",
    "    loc_pol.at[i, \"clean_loc\"] = cleaned\n",
    "    cleaned_split = pd.Series(cleaned.split())\n",
    "\n",
    "    for j in range(len(states_df)):\n",
    "        states_list = list(states_df.loc[j])\n",
    "        #states_list.extend(['USA','usa'])        \n",
    "        \n",
    "        if (cleaned_split.isin(states_list).any()):\n",
    "            loc_pol_asian_ref.at[i, \"us_location\"] = states_list[1:]\n",
    "            loc_pol_asian_ref.at[i, \"is_it_us_state\"] = 1\n",
    "            break\n",
    "        else:\n",
    "            loc_pol_asian_ref.at[i, \"us_location\"] = [\"None\"]\n",
    "            loc_pol_asian_ref.at[i, \"is_it_us_state\"] = 0"
   ]
  },
  {
   "cell_type": "code",
   "execution_count": 515,
   "metadata": {},
   "outputs": [],
   "source": [
    "# Selecting only tweets with Asian references and contains a valid US location\n",
    "us_loc_asian_ref = (loc_pol_asian_ref[loc_pol_asian_ref['is_it_us_state'] == 1.0]).reset_index()\n",
    "\n",
    "# Converting string values to integers\n",
    "for i in range(len(us_loc_asian_ref)):\n",
    "    us_loc_asian_ref.at[i, \"state\"] = us_loc_asian_ref['us_location'][i][1]\n",
    "    \n",
    "# Merging and grouping tables containing coronavirus case count with mean polarity scores by equivalent state names\n",
    "pol_virus_asianRef = us_loc_asian_ref.merge(virus_counts, left_on=\"state\", right_on=\"state\")\n",
    "mean_pol_cases_ar = pol_virus_asianRef.groupby(['state', 'cases'], as_index=False).mean().reset_index().drop(['level_0', 'is_it_us_state', 'index'], axis=1).rename(columns={'state':'STATE_NAME', 'polarity':'mean_polarity'})\n",
    "usa_ar_polarities = usa.merge(mean_pol_cases_ar, how='left')\n",
    "#usa_ar_polarities.plot()"
   ]
  },
  {
   "cell_type": "code",
   "execution_count": 533,
   "metadata": {},
   "outputs": [
    {
     "data": {
      "image/png": "[encoded data removed]",
      "text/plain": [
       "<Figure size 1080x1080 with 2 Axes>"
      ]
     },
     "metadata": {
      "needs_background": "light"
     },
     "output_type": "display_data"
    }
   ],
   "source": [
    "fig, ax = plt.subplots(1,1, figsize=(15,15))\n",
    "usa_ar_polarities.dropna().plot(column='mean_polarity',ax=ax, legend=True)\n",
    "plt.title(\"Mean Polarity Scores of Tweets with Asian References\");"
   ]
  },
  {
   "cell_type": "code",
   "execution_count": 532,
   "metadata": {},
   "outputs": [
    {
     "data": {
      "image/png": "[encoded data removed]",
      "text/plain": [
       "<Figure size 1080x1080 with 2 Axes>"
      ]
     },
     "metadata": {
      "needs_background": "light"
     },
     "output_type": "display_data"
    }
   ],
   "source": [
    "fig, ax = plt.subplots(1,1, figsize=(15,15))\n",
    "usa_ar_polarities.dropna().plot(column='cases',ax=ax, legend=True, cmap='viridis_r')\n",
    "plt.title(\"Number of Coronavirus Cases on April 14, 2020\");"
   ]
  },
  {
   "cell_type": "markdown",
   "metadata": {},
   "source": [
    "### Computing Correlation:"
   ]
  },
  {
   "cell_type": "code",
   "execution_count": 522,
   "metadata": {},
   "outputs": [
    {
     "data": {
      "text/plain": [
       "array([[ 3.50395487e+08, -5.61910673e+03],\n",
       "       [-5.61910673e+03,  1.75480769e+00]])"
      ]
     },
     "execution_count": 522,
     "metadata": {},
     "output_type": "execute_result"
    }
   ],
   "source": [
    "# Computing covariance:\n",
    "\n",
    "cases = usa_ar_polarities.dropna()['cases']\n",
    "mean_polarity = usa_ar_polarities.dropna()['mean_polarity']\n",
    "covariance = cov(cases, mean_polarity)\n",
    "covariance"
   ]
  },
  {
   "cell_type": "code",
   "execution_count": 525,
   "metadata": {},
   "outputs": [
    {
     "data": {
      "text/plain": [
       "-0.226606970260943"
      ]
     },
     "execution_count": 525,
     "metadata": {},
     "output_type": "execute_result"
    }
   ],
   "source": [
    "# Computing Pearson's Correlation: (To understand strength of linear relationship between the two datasets)\n",
    "p_corr, _ = pearsonr(cases, mean_polarity)\n",
    "corr"
   ]
  },
  {
   "cell_type": "code",
   "execution_count": 529,
   "metadata": {},
   "outputs": [
    {
     "data": {
      "text/plain": [
       "0.02209978480439319"
      ]
     },
     "execution_count": 529,
     "metadata": {},
     "output_type": "execute_result"
    }
   ],
   "source": [
    "# Computing Spearman's Correlation: (To investigate if there may be a nonlinear relationship)\n",
    "s_corr, _ = spearmanr(cases, mean_polarity)\n",
    "s_corr"
   ]
  },
  {
   "cell_type": "markdown",
   "metadata": {},
   "source": [
    "### Analyzing All Tweets:"
   ]
  },
  {
   "cell_type": "code",
   "execution_count": 327,
   "metadata": {},
   "outputs": [],
   "source": [
    "loc = tweets_df.groupby('location')[['location', 'polarity']].first()['location']\n",
    "pol = tweets_df.groupby('location')[['location', 'polarity']].first()['polarity']\n",
    "dict = {'loc':loc, 'polarity':pol}\n",
    "loc_pol = pd.DataFrame(dict).reset_index()[['loc','polarity']]\n",
    "\n",
    "cities_states = major_cities.merge(us_states_counties, how='left')\n",
    "cities_states.drop(['County', 'lower_county', 'City_alias', 'lower_city_alias', 'data'], axis=1).drop_duplicates()\n",
    "states_df = cities_states[['State_short', 'State_full','City','lower_state_short', 'lower_state_full','lower_city']].drop_duplicates().reset_index()\n",
    "\n",
    "for i in range(len(loc_pol)):\n",
    "    cleaned = clean_tweet(loc_pol['loc'][i][1:])\n",
    "    loc_pol.at[i, \"clean_loc\"] = cleaned\n",
    "    cleaned_split = pd.Series(cleaned.split())\n",
    "\n",
    "    for j in range(len(states_df)):\n",
    "        states_list = list(states_df.loc[j])\n",
    "        #states_list.extend(['USA','usa'])        \n",
    "        \n",
    "        if (cleaned_split.isin(states_list).any()):\n",
    "            loc_pol.at[i, \"us_location\"] = states_list[1:]\n",
    "            loc_pol.at[i, \"is_it_us_state\"] = 1\n",
    "            break\n",
    "        else:\n",
    "            loc_pol.at[i, \"us_location\"] = [\"None\"]\n",
    "            loc_pol.at[i, \"is_it_us_state\"] = 0"
   ]
  },
  {
   "cell_type": "code",
   "execution_count": 384,
   "metadata": {},
   "outputs": [
    {
     "data": {
      "text/html": [
       "<div>\n",
       "<style scoped>\n",
       "    .dataframe tbody tr th:only-of-type {\n",
       "        vertical-align: middle;\n",
       "    }\n",
       "\n",
       "    .dataframe tbody tr th {\n",
       "        vertical-align: top;\n",
       "    }\n",
       "\n",
       "    .dataframe thead th {\n",
       "        text-align: right;\n",
       "    }\n",
       "</style>\n",
       "<table border=\"1\" class=\"dataframe\">\n",
       "  <thead>\n",
       "    <tr style=\"text-align: right;\">\n",
       "      <th></th>\n",
       "      <th>loc</th>\n",
       "      <th>polarity</th>\n",
       "      <th>clean_loc</th>\n",
       "      <th>us_location</th>\n",
       "      <th>is_it_us_state</th>\n",
       "      <th>state</th>\n",
       "    </tr>\n",
       "  </thead>\n",
       "  <tbody>\n",
       "    <tr>\n",
       "      <td>0</td>\n",
       "      <td>b\"California dreamin'\"</td>\n",
       "      <td>-2.6</td>\n",
       "      <td>california dreamin</td>\n",
       "      <td>[CA, California, Albany, ca, california, albany]</td>\n",
       "      <td>1.0</td>\n",
       "      <td>California</td>\n",
       "    </tr>\n",
       "    <tr>\n",
       "      <td>1</td>\n",
       "      <td>b\"Warning: I don't follow back\"</td>\n",
       "      <td>-0.2</td>\n",
       "      <td>warning follow back</td>\n",
       "      <td>[None]</td>\n",
       "      <td>0.0</td>\n",
       "      <td>NaN</td>\n",
       "    </tr>\n",
       "    <tr>\n",
       "      <td>2</td>\n",
       "      <td>b' USA'</td>\n",
       "      <td>4.2</td>\n",
       "      <td>usa</td>\n",
       "      <td>[None]</td>\n",
       "      <td>0.0</td>\n",
       "      <td>NaN</td>\n",
       "    </tr>\n",
       "    <tr>\n",
       "      <td>3</td>\n",
       "      <td>b'#RadicalFreeSpeech + Democracy'</td>\n",
       "      <td>3.2</td>\n",
       "      <td>radicalfreespeech democracy</td>\n",
       "      <td>[None]</td>\n",
       "      <td>0.0</td>\n",
       "      <td>NaN</td>\n",
       "    </tr>\n",
       "    <tr>\n",
       "      <td>4</td>\n",
       "      <td>b'#RemoteWork #Boston #NYC '</td>\n",
       "      <td>0.7</td>\n",
       "      <td>remotework boston nyc</td>\n",
       "      <td>[MA, Massachusetts, Boston, ma, massachusetts,...</td>\n",
       "      <td>1.0</td>\n",
       "      <td>NaN</td>\n",
       "    </tr>\n",
       "    <tr>\n",
       "      <td>...</td>\n",
       "      <td>...</td>\n",
       "      <td>...</td>\n",
       "      <td>...</td>\n",
       "      <td>...</td>\n",
       "      <td>...</td>\n",
       "      <td>...</td>\n",
       "    </tr>\n",
       "    <tr>\n",
       "      <td>430</td>\n",
       "      <td>b'nyc'</td>\n",
       "      <td>-3.1</td>\n",
       "      <td>nyc</td>\n",
       "      <td>[None]</td>\n",
       "      <td>0.0</td>\n",
       "      <td>NaN</td>\n",
       "    </tr>\n",
       "    <tr>\n",
       "      <td>431</td>\n",
       "      <td>b'oklahoma'</td>\n",
       "      <td>0.8</td>\n",
       "      <td>oklahoma</td>\n",
       "      <td>[OK, Oklahoma, Albany, ok, oklahoma, albany]</td>\n",
       "      <td>1.0</td>\n",
       "      <td>NaN</td>\n",
       "    </tr>\n",
       "    <tr>\n",
       "      <td>432</td>\n",
       "      <td>b'online'</td>\n",
       "      <td>2.5</td>\n",
       "      <td>online</td>\n",
       "      <td>[None]</td>\n",
       "      <td>0.0</td>\n",
       "      <td>NaN</td>\n",
       "    </tr>\n",
       "    <tr>\n",
       "      <td>433</td>\n",
       "      <td>b'planet earth'</td>\n",
       "      <td>-9.0</td>\n",
       "      <td>planet earth</td>\n",
       "      <td>[None]</td>\n",
       "      <td>0.0</td>\n",
       "      <td>NaN</td>\n",
       "    </tr>\n",
       "    <tr>\n",
       "      <td>434</td>\n",
       "      <td>b'somewhere in the western usa'</td>\n",
       "      <td>-1.1</td>\n",
       "      <td>somewhere western usa</td>\n",
       "      <td>[None]</td>\n",
       "      <td>0.0</td>\n",
       "      <td>NaN</td>\n",
       "    </tr>\n",
       "  </tbody>\n",
       "</table>\n",
       "<p>435 rows × 6 columns</p>\n",
       "</div>"
      ],
      "text/plain": [
       "                                   loc  polarity                    clean_loc  \\\n",
       "0               b\"California dreamin'\"      -2.6           california dreamin   \n",
       "1      b\"Warning: I don't follow back\"      -0.2          warning follow back   \n",
       "2                              b' USA'       4.2                          usa   \n",
       "3    b'#RadicalFreeSpeech + Democracy'       3.2  radicalfreespeech democracy   \n",
       "4         b'#RemoteWork #Boston #NYC '       0.7        remotework boston nyc   \n",
       "..                                 ...       ...                          ...   \n",
       "430                             b'nyc'      -3.1                          nyc   \n",
       "431                        b'oklahoma'       0.8                     oklahoma   \n",
       "432                          b'online'       2.5                       online   \n",
       "433                    b'planet earth'      -9.0                 planet earth   \n",
       "434    b'somewhere in the western usa'      -1.1        somewhere western usa   \n",
       "\n",
       "                                           us_location  is_it_us_state  \\\n",
       "0     [CA, California, Albany, ca, california, albany]             1.0   \n",
       "1                                               [None]             0.0   \n",
       "2                                               [None]             0.0   \n",
       "3                                               [None]             0.0   \n",
       "4    [MA, Massachusetts, Boston, ma, massachusetts,...             1.0   \n",
       "..                                                 ...             ...   \n",
       "430                                             [None]             0.0   \n",
       "431       [OK, Oklahoma, Albany, ok, oklahoma, albany]             1.0   \n",
       "432                                             [None]             0.0   \n",
       "433                                             [None]             0.0   \n",
       "434                                             [None]             0.0   \n",
       "\n",
       "          state  \n",
       "0    California  \n",
       "1           NaN  \n",
       "2           NaN  \n",
       "3           NaN  \n",
       "4           NaN  \n",
       "..          ...  \n",
       "430         NaN  \n",
       "431         NaN  \n",
       "432         NaN  \n",
       "433         NaN  \n",
       "434         NaN  \n",
       "\n",
       "[435 rows x 6 columns]"
      ]
     },
     "execution_count": 384,
     "metadata": {},
     "output_type": "execute_result"
    }
   ],
   "source": [
    "loc_pol"
   ]
  },
  {
   "cell_type": "code",
   "execution_count": 374,
   "metadata": {
    "scrolled": true
   },
   "outputs": [],
   "source": [
    "us_loc = (loc_pol[loc_pol['is_it_us_state'] == 1.0]).reset_index()\n",
    "for i in range(len(us_loc)):\n",
    "    us_loc.at[i, \"state\"] = us_loc['us_location'][i][1]"
   ]
  },
  {
   "cell_type": "code",
   "execution_count": 470,
   "metadata": {},
   "outputs": [],
   "source": [
    "us_loc_virus = us_loc.merge(virus_counts, left_on=\"state\", right_on=\"state\")"
   ]
  },
  {
   "cell_type": "code",
   "execution_count": 476,
   "metadata": {
    "scrolled": true
   },
   "outputs": [
    {
     "data": {
      "text/html": [
       "<div>\n",
       "<style scoped>\n",
       "    .dataframe tbody tr th:only-of-type {\n",
       "        vertical-align: middle;\n",
       "    }\n",
       "\n",
       "    .dataframe tbody tr th {\n",
       "        vertical-align: top;\n",
       "    }\n",
       "\n",
       "    .dataframe thead th {\n",
       "        text-align: right;\n",
       "    }\n",
       "</style>\n",
       "<table border=\"1\" class=\"dataframe\">\n",
       "  <thead>\n",
       "    <tr style=\"text-align: right;\">\n",
       "      <th></th>\n",
       "      <th>STATE_NAME</th>\n",
       "      <th>cases</th>\n",
       "      <th>mean_polarity</th>\n",
       "    </tr>\n",
       "  </thead>\n",
       "  <tbody>\n",
       "    <tr>\n",
       "      <td>26</td>\n",
       "      <td>New York</td>\n",
       "      <td>202208</td>\n",
       "      <td>0.595455</td>\n",
       "    </tr>\n",
       "    <tr>\n",
       "      <td>25</td>\n",
       "      <td>New Jersey</td>\n",
       "      <td>68824</td>\n",
       "      <td>-0.450000</td>\n",
       "    </tr>\n",
       "    <tr>\n",
       "      <td>17</td>\n",
       "      <td>Massachusetts</td>\n",
       "      <td>28163</td>\n",
       "      <td>0.950000</td>\n",
       "    </tr>\n",
       "    <tr>\n",
       "      <td>18</td>\n",
       "      <td>Michigan</td>\n",
       "      <td>26844</td>\n",
       "      <td>0.800000</td>\n",
       "    </tr>\n",
       "    <tr>\n",
       "      <td>3</td>\n",
       "      <td>California</td>\n",
       "      <td>25758</td>\n",
       "      <td>0.703448</td>\n",
       "    </tr>\n",
       "    <tr>\n",
       "      <td>31</td>\n",
       "      <td>Pennsylvania</td>\n",
       "      <td>25591</td>\n",
       "      <td>0.570000</td>\n",
       "    </tr>\n",
       "    <tr>\n",
       "      <td>10</td>\n",
       "      <td>Illinois</td>\n",
       "      <td>23247</td>\n",
       "      <td>0.281818</td>\n",
       "    </tr>\n",
       "    <tr>\n",
       "      <td>6</td>\n",
       "      <td>Florida</td>\n",
       "      <td>21620</td>\n",
       "      <td>1.176471</td>\n",
       "    </tr>\n",
       "    <tr>\n",
       "      <td>14</td>\n",
       "      <td>Louisiana</td>\n",
       "      <td>21518</td>\n",
       "      <td>0.000000</td>\n",
       "    </tr>\n",
       "    <tr>\n",
       "      <td>34</td>\n",
       "      <td>Texas</td>\n",
       "      <td>15304</td>\n",
       "      <td>1.106667</td>\n",
       "    </tr>\n",
       "    <tr>\n",
       "      <td>5</td>\n",
       "      <td>Connecticut</td>\n",
       "      <td>13989</td>\n",
       "      <td>-0.375000</td>\n",
       "    </tr>\n",
       "    <tr>\n",
       "      <td>7</td>\n",
       "      <td>Georgia</td>\n",
       "      <td>13913</td>\n",
       "      <td>-0.111111</td>\n",
       "    </tr>\n",
       "    <tr>\n",
       "      <td>36</td>\n",
       "      <td>Washington</td>\n",
       "      <td>10694</td>\n",
       "      <td>0.006667</td>\n",
       "    </tr>\n",
       "    <tr>\n",
       "      <td>16</td>\n",
       "      <td>Maryland</td>\n",
       "      <td>9472</td>\n",
       "      <td>-2.800000</td>\n",
       "    </tr>\n",
       "    <tr>\n",
       "      <td>11</td>\n",
       "      <td>Indiana</td>\n",
       "      <td>8527</td>\n",
       "      <td>-5.600000</td>\n",
       "    </tr>\n",
       "    <tr>\n",
       "      <td>4</td>\n",
       "      <td>Colorado</td>\n",
       "      <td>7941</td>\n",
       "      <td>0.400000</td>\n",
       "    </tr>\n",
       "    <tr>\n",
       "      <td>28</td>\n",
       "      <td>Ohio</td>\n",
       "      <td>7280</td>\n",
       "      <td>-0.475000</td>\n",
       "    </tr>\n",
       "    <tr>\n",
       "      <td>35</td>\n",
       "      <td>Virginia</td>\n",
       "      <td>6171</td>\n",
       "      <td>1.025000</td>\n",
       "    </tr>\n",
       "    <tr>\n",
       "      <td>33</td>\n",
       "      <td>Tennessee</td>\n",
       "      <td>5654</td>\n",
       "      <td>3.140000</td>\n",
       "    </tr>\n",
       "    <tr>\n",
       "      <td>27</td>\n",
       "      <td>North Carolina</td>\n",
       "      <td>5024</td>\n",
       "      <td>-0.900000</td>\n",
       "    </tr>\n",
       "    <tr>\n",
       "      <td>21</td>\n",
       "      <td>Missouri</td>\n",
       "      <td>4686</td>\n",
       "      <td>-0.233333</td>\n",
       "    </tr>\n",
       "    <tr>\n",
       "      <td>0</td>\n",
       "      <td>Alabama</td>\n",
       "      <td>3953</td>\n",
       "      <td>2.540000</td>\n",
       "    </tr>\n",
       "    <tr>\n",
       "      <td>2</td>\n",
       "      <td>Arizona</td>\n",
       "      <td>3806</td>\n",
       "      <td>-1.600000</td>\n",
       "    </tr>\n",
       "    <tr>\n",
       "      <td>38</td>\n",
       "      <td>Wisconsin</td>\n",
       "      <td>3555</td>\n",
       "      <td>3.366667</td>\n",
       "    </tr>\n",
       "    <tr>\n",
       "      <td>32</td>\n",
       "      <td>South Carolina</td>\n",
       "      <td>3553</td>\n",
       "      <td>1.350000</td>\n",
       "    </tr>\n",
       "    <tr>\n",
       "      <td>24</td>\n",
       "      <td>Nevada</td>\n",
       "      <td>3137</td>\n",
       "      <td>0.500000</td>\n",
       "    </tr>\n",
       "    <tr>\n",
       "      <td>20</td>\n",
       "      <td>Mississippi</td>\n",
       "      <td>3087</td>\n",
       "      <td>-0.600000</td>\n",
       "    </tr>\n",
       "    <tr>\n",
       "      <td>13</td>\n",
       "      <td>Kentucky</td>\n",
       "      <td>2210</td>\n",
       "      <td>0.775000</td>\n",
       "    </tr>\n",
       "    <tr>\n",
       "      <td>29</td>\n",
       "      <td>Oklahoma</td>\n",
       "      <td>2184</td>\n",
       "      <td>-0.240000</td>\n",
       "    </tr>\n",
       "    <tr>\n",
       "      <td>19</td>\n",
       "      <td>Minnesota</td>\n",
       "      <td>1695</td>\n",
       "      <td>4.700000</td>\n",
       "    </tr>\n",
       "    <tr>\n",
       "      <td>30</td>\n",
       "      <td>Oregon</td>\n",
       "      <td>1633</td>\n",
       "      <td>0.550000</td>\n",
       "    </tr>\n",
       "    <tr>\n",
       "      <td>9</td>\n",
       "      <td>Idaho</td>\n",
       "      <td>1464</td>\n",
       "      <td>-1.600000</td>\n",
       "    </tr>\n",
       "    <tr>\n",
       "      <td>12</td>\n",
       "      <td>Kansas</td>\n",
       "      <td>1439</td>\n",
       "      <td>2.200000</td>\n",
       "    </tr>\n",
       "    <tr>\n",
       "      <td>23</td>\n",
       "      <td>Nebraska</td>\n",
       "      <td>931</td>\n",
       "      <td>-1.100000</td>\n",
       "    </tr>\n",
       "    <tr>\n",
       "      <td>15</td>\n",
       "      <td>Maine</td>\n",
       "      <td>734</td>\n",
       "      <td>0.177778</td>\n",
       "    </tr>\n",
       "    <tr>\n",
       "      <td>37</td>\n",
       "      <td>West Virginia</td>\n",
       "      <td>697</td>\n",
       "      <td>-0.600000</td>\n",
       "    </tr>\n",
       "    <tr>\n",
       "      <td>8</td>\n",
       "      <td>Hawaii</td>\n",
       "      <td>511</td>\n",
       "      <td>-1.200000</td>\n",
       "    </tr>\n",
       "    <tr>\n",
       "      <td>22</td>\n",
       "      <td>Montana</td>\n",
       "      <td>399</td>\n",
       "      <td>-2.900000</td>\n",
       "    </tr>\n",
       "    <tr>\n",
       "      <td>1</td>\n",
       "      <td>Alaska</td>\n",
       "      <td>283</td>\n",
       "      <td>-2.200000</td>\n",
       "    </tr>\n",
       "    <tr>\n",
       "      <td>39</td>\n",
       "      <td>Wyoming</td>\n",
       "      <td>282</td>\n",
       "      <td>0.000000</td>\n",
       "    </tr>\n",
       "  </tbody>\n",
       "</table>\n",
       "</div>"
      ],
      "text/plain": [
       "        STATE_NAME   cases  mean_polarity\n",
       "26        New York  202208       0.595455\n",
       "25      New Jersey   68824      -0.450000\n",
       "17   Massachusetts   28163       0.950000\n",
       "18        Michigan   26844       0.800000\n",
       "3       California   25758       0.703448\n",
       "31    Pennsylvania   25591       0.570000\n",
       "10        Illinois   23247       0.281818\n",
       "6          Florida   21620       1.176471\n",
       "14       Louisiana   21518       0.000000\n",
       "34           Texas   15304       1.106667\n",
       "5      Connecticut   13989      -0.375000\n",
       "7          Georgia   13913      -0.111111\n",
       "36      Washington   10694       0.006667\n",
       "16        Maryland    9472      -2.800000\n",
       "11         Indiana    8527      -5.600000\n",
       "4         Colorado    7941       0.400000\n",
       "28            Ohio    7280      -0.475000\n",
       "35        Virginia    6171       1.025000\n",
       "33       Tennessee    5654       3.140000\n",
       "27  North Carolina    5024      -0.900000\n",
       "21        Missouri    4686      -0.233333\n",
       "0          Alabama    3953       2.540000\n",
       "2          Arizona    3806      -1.600000\n",
       "38       Wisconsin    3555       3.366667\n",
       "32  South Carolina    3553       1.350000\n",
       "24          Nevada    3137       0.500000\n",
       "20     Mississippi    3087      -0.600000\n",
       "13        Kentucky    2210       0.775000\n",
       "29        Oklahoma    2184      -0.240000\n",
       "19       Minnesota    1695       4.700000\n",
       "30          Oregon    1633       0.550000\n",
       "9            Idaho    1464      -1.600000\n",
       "12          Kansas    1439       2.200000\n",
       "23        Nebraska     931      -1.100000\n",
       "15           Maine     734       0.177778\n",
       "37   West Virginia     697      -0.600000\n",
       "8           Hawaii     511      -1.200000\n",
       "22         Montana     399      -2.900000\n",
       "1           Alaska     283      -2.200000\n",
       "39         Wyoming     282       0.000000"
      ]
     },
     "execution_count": 476,
     "metadata": {},
     "output_type": "execute_result"
    }
   ],
   "source": [
    "mean_pol_cases = us_loc_virus.groupby(['state', 'cases'], as_index=False).mean().reset_index().drop(['level_0', 'is_it_us_state', 'index'], axis=1).rename(columns={'state':'STATE_NAME', 'polarity':'mean_polarity'})\n",
    "mean_pol_cases.sort_values(by=['cases'], ascending=False)"
   ]
  },
  {
   "cell_type": "code",
   "execution_count": 408,
   "metadata": {},
   "outputs": [
    {
     "data": {
      "image/svg+xml": [
       "<svg xmlns=\"http://www.w3.org/2000/svg\" xmlns:xlink=\"http://www.w3.org/1999/xlink\" width=\"100.0\" height=\"100.0\" viewBox=\"-125.04531479284532 45.23054688958898 8.43872796785918 4.081929963801585\" preserveAspectRatio=\"xMinYMin meet\"><g transform=\"matrix(1,0,0,-1,0,94.54302374297954)\"><g><path fill-rule=\"evenodd\" fill=\"#66cc99\" stroke=\"#555555\" stroke-width=\"0.16877455935718358\" opacity=\"0.6\" d=\"M -122.40201531038355,48.22521637237797 L -122.4628553104402,48.22836337238091 L -122.45441931043234,48.128492372287894 L -122.36133331034566,48.06009737222419 L -122.51451131048832,48.133973372293 L -122.54207431051398,48.21046037236424 L -122.5091303104833,48.25379337240459 L -122.40440431038577,48.24659437239789 L -122.37832031036149,48.28972137243805 L -122.56436631053475,48.414246372554025 L -122.66703231063036,48.41289537255277 L -122.69941331066052,48.4943283726286 L -122.60817831057555,48.51882437265142 L -122.52322831049644,48.45840337259515 L -122.47383331045043,48.46219537259868 L -122.50529931047973,48.55944437268925 L -122.4295453104092,48.59939737272646 L -122.48779831046343,48.63857037276294 L -122.52655831049954,48.71172437283107 L -122.51685331049049,48.757921372874094 L -122.69740431065864,48.80301537291609 L -122.75424231071159,48.90998837301572 L -122.82242131077507,48.95072537305366 L -122.74394031070199,48.95580837305839 L -122.76511931072172,48.99974637309931 L -120.85705930894468,48.99983037309939 L -118.84360330706951,48.999898373099455 L -118.20035430647044,48.999908373099466 L -117.43858030576098,48.999918373099476 L -117.03204930538237,48.999931373099486 L -117.02911130537964,48.838075372948744 L -117.03886830538872,48.04618637221124 L -117.03747230538742,47.9710923721413 L -117.04179430539145,47.36144137157352 L -117.04239230539201,47.25850137147765 L -117.04096830539069,47.11931937134803 L -117.04192630539157,46.53660137080533 L -117.03855830538843,46.42798037070417 L -117.04447030539394,46.38857437066747 L -117.06418430541231,46.34869837063033 L -117.02797330537858,46.33542737061797 L -117.00164230535405,46.30244837058726 L -116.97272530532712,46.24930937053777 L -116.96749030532226,46.19755437048957 L -116.9294263052868,46.1654833704597 L -116.9616373053168,46.09727437039618 L -116.98721130534062,46.0785093703787 L -116.95772330531315,46.06568737036676 L -116.91913230527722,45.995175370301084 L -117.4816633058011,45.99983437030543 L -117.60282630591395,46.00026837030583 L -117.98267730626772,45.99988037030547 L -117.99252730627688,46.0016393703071 L -118.98213330719852,45.99905837030471 L -119.03222130724518,45.96627437027417 L -119.14025030734578,45.92570837023639 L -119.17874230738164,45.922351370233265 L -119.30276330749714,45.932662370242866 L -119.37944130756856,45.91761037022885 L -119.4388613076239,45.91426837022574 L -119.51222030769222,45.8992003702117 L -119.58929430776399,45.91331537022485 L -119.62211630779456,45.899410370211896 L -119.67844530784703,45.852539370168245 L -119.83355630799147,45.84160937015807 L -119.86973530802518,45.83169837014884 L -119.9943203081412,45.81114037012969 L -120.06864830821043,45.78020237010088 L -120.1559083082917,45.76126137008324 L -120.20744530833969,45.71978437004461 L -120.28363530841065,45.71658337004163 L -120.44338330855942,45.6892793700162 L -120.49915630861136,45.695630370022116 L -120.57008230867743,45.74091837006429 L -120.62375730872742,45.743610370066804 L -120.65840330875969,45.73261237005656 L -120.69699430879562,45.71050937003597 L -120.86141930894875,45.66518636999376 L -120.90793730899208,45.6354773699661 L -120.94857330902992,45.65031636997991 L -120.96847830904846,45.6451543699751 L -121.033482309109,45.65284436998227 L -121.07353030914629,45.64661036997646 L -121.12520430919443,45.60705936993963 L -121.17431630924017,45.60051636993353 L -121.19205430925669,45.61324236994538 L -121.20330830926716,45.657287369986406 L -121.21427130927736,45.66564536999419 L -121.27639130933522,45.67834037000601 L -121.31997730937582,45.696642370023056 L -121.36781430942037,45.699686370025894 L -121.42202930947087,45.690603370017435 L -121.44255230948997,45.6949673700215 L -121.52905430957054,45.71956737004441 L -121.70641730973571,45.688793370015745 L -121.7586943097844,45.68971637001661 L -121.81104130983316,45.70068337002682 L -121.88828330990509,45.67685637000463 L -121.92682030994098,45.642028369972195 L -121.97265930998367,45.63577636996637 L -122.00001131000914,45.61782436994965 L -122.08203731008555,45.590504369924204 L -122.24492231023724,45.54811236988473 L -122.30315031029147,45.54309236988006 L -122.35645731034111,45.56617136990155 L -122.43715431041628,45.56477936990025 L -122.56542931053573,45.59481836992823 L -122.65120931061563,45.606830369939416 L -122.69632331065765,45.63104536996197 L -122.76054131071746,45.649397369979056 L -122.77255131072863,45.72768537005197 L -122.76428831072094,45.760568370082595 L -122.78800931074304,45.800343370119634 L -122.78451631073978,45.8504493701663 L -122.78407331073936,45.867886370182546 L -122.80622331076,45.90407237021624 L -122.8077413107614,45.94389037025333 L -122.87541731082445,46.0271833703309 L -122.89975731084711,46.07932937037946 L -122.97416931091641,46.110483370408474 L -123.05059631098759,46.155736370450626 L -123.11855431105087,46.17931037047258 L -123.17619631110456,46.18358637047656 L -123.2124373111383,46.17000637046391 L -123.24879931117218,46.14402037043971 L -123.30471731122425,46.14473737044038 L -123.4707733113789,46.27502337056171 L -123.62007631151795,46.25866537054648 L -123.7254593116161,46.28542337057141 L -123.88577131176541,46.2404383705295 L -123.99332931186558,46.31027437059455 L -124.07910731194546,46.267259370554484 L -124.0655103119328,46.639745370901394 L -124.02304331189325,46.58354137084905 L -124.0130023118839,46.383680370662915 L -123.84145131172413,46.404343370682156 L -123.94069331181655,46.481115370753656 L -123.89356731177267,46.51107937078156 L -123.95771231183241,46.61722537088042 L -123.92647031180331,46.67306037093242 L -123.84096631172368,46.71828837097454 L -123.8955423117745,46.7449863709994 L -124.04315831191198,46.71585537097228 L -124.09104931195658,46.72902237098454 L -124.10206731196683,46.78946937104083 L -124.13882731200107,46.89998537114376 L -124.10576031197029,46.908148371151356 L -124.10473831196933,46.874145371119695 L -124.02880831189862,46.823767371072776 L -124.04692931191549,46.887253371131905 L -123.81265531169731,46.963965371203344 L -123.99586431186793,46.97638537121491 L -124.03439431190381,47.031033371265806 L -124.11236131197643,47.042675371276644 L -124.16203631202269,46.92961237117135 L -124.19273331205127,47.16698237139242 L -124.23142531208731,47.275070371493086 L -124.31942731216927,47.34923837156216 L -124.34908031219689,47.526910371727624 L -124.37360531221972,47.6387633718318 L -124.48403531232259,47.80825537198965 L -124.60668531243681,47.87373537205063 L -124.73276931255424,48.149989372307914 L -124.70520931252857,48.23199637238429 L -124.71717531253971,48.37755737251986 L -124.56354731239662,48.35727837250097 L -123.99121531186361,48.15916137231646 L -123.39685731131007,48.11103037227163 L -123.12322231105523,48.14873337230675 L -122.92159431086745,48.09417937225594 L -122.92484431087047,48.066796372230435 L -122.84111131079248,48.13313637229222 L -122.76888231072522,48.14399437230233 L -122.80293131075693,48.08532137224769 L -122.66156031062528,47.91715737209107 L -122.65358531061784,47.86443137204197 L -122.7458703107038,47.80898837199034 L -122.7898013107447,47.80254837198434 L -122.80951731076306,47.85707537203512 L -122.85880431080896,47.827328372007415 L -122.89936331084674,47.672517371863236 L -122.9827443109244,47.605474371800796 L -123.11391531104655,47.45627337166184 L -123.15406031108395,47.348547371561516 L -123.01047131095021,47.35302737156569 L -122.83324731078517,47.43846437164525 L -123.03620631097418,47.3560513715685 L -123.11268531104541,47.37156937158295 L -123.026336310965,47.51593637171741 L -122.91696931086314,47.6146063718093 L -122.75294231071038,47.66068837185222 L -122.72306231068254,47.75689937194182 L -122.61116231057832,47.85000837202854 L -122.61321731058024,47.9361893721088 L -122.5318883105045,47.90946137208391 L -122.4735883104502,47.754980371940036 L -122.62150931058797,47.69696837188601 L -122.58646031055532,47.57119137176887 L -122.55526231052627,47.58350537178033 L -122.54270231051457,47.52273437172374 L -122.50446131047896,47.50721637170929 L -122.55844631052923,47.398363371607914 L -122.5441253105159,47.373927371585154 L -122.588254310557,47.333929371547896 L -122.55315631052432,47.28333237150078 L -122.5805303105498,47.251387371471026 L -122.61154631057869,47.29339837151015 L -122.60691431057438,47.2705713714889 L -122.69974431066083,47.29208537150893 L -122.62875431059472,47.39855337160809 L -122.6374363106028,47.39858037160811 L -122.74154931069975,47.341450371554906 L -122.76970831072599,47.26615637148478 L -122.71980131067951,47.22313137144471 L -122.7612383107181,47.162496371388244 L -122.82510831077758,47.234826371455604 L -122.77333531072937,47.3373603715511 L -122.80218431075623,47.360740371572874 L -122.88037331082904,47.299233371515584 L -123.11543631104797,47.207981371430606 L -123.08120031101609,47.09005837132078 L -123.03134831096966,47.10077437133076 L -122.92315031086889,47.04796337128157 L -122.79004831074494,47.125859371354125 L -122.72818631068732,47.082441371313685 L -122.70007931066114,47.09832537132848 L -122.5918063105603,47.18006037140459 L -122.53076331050346,47.28745637150462 L -122.54658831051819,47.31627637153146 L -122.42409431040412,47.25947237147855 L -122.39284331037501,47.27772237149556 L -122.44160431042042,47.301125371517344 L -122.42083731040108,47.31884437153385 L -122.32537631031218,47.34432337155758 L -122.31973831030692,47.39011537160023 L -122.3926333103748,47.5102423717121 L -122.38222031036511,47.59540937179142 L -122.41481531039547,47.664180371855466 L -122.39449231037653,47.77417637195791 L -122.30292231029125,47.95021437212186 L -122.23012131022347,47.96911337213946 L -122.21699231021123,48.007439372175156 L -122.36833331035217,48.12814137228757 L -122.40201531038355,48.22521637237797 z\" /><path fill-rule=\"evenodd\" fill=\"#66cc99\" stroke=\"#555555\" stroke-width=\"0.16877455935718358\" opacity=\"0.6\" d=\"M -122.96797831091064,48.44379437258154 L -123.09523331102915,48.47942237261472 L -123.15972031108922,48.521842372654234 L -123.1698993110987,48.56256437269215 L -123.14105331107183,48.62364737274905 L -123.10372131103706,48.60837737273482 L -123.01209531095174,48.557477372687416 L -123.00869831094857,48.53371937266529 L -122.96798031091063,48.526933372658974 L -123.0222713109612,48.513359372646335 L -123.01888331095805,48.48960537262421 L -122.96797831091064,48.44379437258154 z\" /><path fill-rule=\"evenodd\" fill=\"#66cc99\" stroke=\"#555555\" stroke-width=\"0.16877455935718358\" opacity=\"0.6\" d=\"M -122.73318731069197,48.27664737242587 L -122.66561231062904,48.396777372537755 L -122.60438431057202,48.40478937254522 L -122.52575031049878,48.32104337246722 L -122.52864831050148,48.28351037243227 L -122.62350931058984,48.29635037244422 L -122.73203431069089,48.22541437237816 L -122.61092531057811,48.20632137236038 L -122.54620231051783,48.07685837223981 L -122.49621231047126,48.09407137225584 L -122.37999431036303,48.03214637219817 L -122.35540031034013,47.963886372134596 L -122.38696131036953,47.90454937207933 L -122.44278831042152,47.91805637209191 L -122.47161631044837,47.987509372156595 L -122.54496131051667,47.967531372137984 L -122.60862831057597,48.0314303721975 L -122.69555431065692,48.18118537233697 L -122.76877831072511,48.21881837237201 L -122.73318731069197,48.27664737242587 z\" /></g></g></svg>"
      ],
      "text/plain": [
       "<shapely.geometry.multipolygon.MultiPolygon at 0x13c018310>"
      ]
     },
     "execution_count": 408,
     "metadata": {},
     "output_type": "execute_result"
    }
   ],
   "source": [
    "usa.loc[1,'geometry']"
   ]
  },
  {
   "cell_type": "code",
   "execution_count": 490,
   "metadata": {},
   "outputs": [
    {
     "data": {
      "text/html": [
       "<div>\n",
       "<style scoped>\n",
       "    .dataframe tbody tr th:only-of-type {\n",
       "        vertical-align: middle;\n",
       "    }\n",
       "\n",
       "    .dataframe tbody tr th {\n",
       "        vertical-align: top;\n",
       "    }\n",
       "\n",
       "    .dataframe thead th {\n",
       "        text-align: right;\n",
       "    }\n",
       "</style>\n",
       "<table border=\"1\" class=\"dataframe\">\n",
       "  <thead>\n",
       "    <tr style=\"text-align: right;\">\n",
       "      <th></th>\n",
       "      <th>STATE_NAME</th>\n",
       "      <th>DRAWSEQ</th>\n",
       "      <th>STATE_FIPS</th>\n",
       "      <th>SUB_REGION</th>\n",
       "      <th>STATE_ABBR</th>\n",
       "      <th>geometry</th>\n",
       "    </tr>\n",
       "  </thead>\n",
       "  <tbody>\n",
       "    <tr>\n",
       "      <td>0</td>\n",
       "      <td>Hawaii</td>\n",
       "      <td>1</td>\n",
       "      <td>15</td>\n",
       "      <td>Pacific</td>\n",
       "      <td>HI</td>\n",
       "      <td>MULTIPOLYGON (((-160.07380 22.00418, -160.0497...</td>\n",
       "    </tr>\n",
       "    <tr>\n",
       "      <td>1</td>\n",
       "      <td>Washington</td>\n",
       "      <td>2</td>\n",
       "      <td>53</td>\n",
       "      <td>Pacific</td>\n",
       "      <td>WA</td>\n",
       "      <td>MULTIPOLYGON (((-122.40202 48.22522, -122.4628...</td>\n",
       "    </tr>\n",
       "    <tr>\n",
       "      <td>2</td>\n",
       "      <td>Montana</td>\n",
       "      <td>3</td>\n",
       "      <td>30</td>\n",
       "      <td>Mountain</td>\n",
       "      <td>MT</td>\n",
       "      <td>POLYGON ((-111.47543 44.70216, -111.48080 44.6...</td>\n",
       "    </tr>\n",
       "    <tr>\n",
       "      <td>3</td>\n",
       "      <td>Maine</td>\n",
       "      <td>4</td>\n",
       "      <td>23</td>\n",
       "      <td>New England</td>\n",
       "      <td>ME</td>\n",
       "      <td>MULTIPOLYGON (((-69.77728 44.07415, -69.85993 ...</td>\n",
       "    </tr>\n",
       "    <tr>\n",
       "      <td>4</td>\n",
       "      <td>North Dakota</td>\n",
       "      <td>5</td>\n",
       "      <td>38</td>\n",
       "      <td>West North Central</td>\n",
       "      <td>ND</td>\n",
       "      <td>POLYGON ((-98.73044 45.93827, -99.00683 45.939...</td>\n",
       "    </tr>\n",
       "  </tbody>\n",
       "</table>\n",
       "</div>"
      ],
      "text/plain": [
       "     STATE_NAME  DRAWSEQ STATE_FIPS          SUB_REGION STATE_ABBR  \\\n",
       "0        Hawaii        1         15             Pacific         HI   \n",
       "1    Washington        2         53             Pacific         WA   \n",
       "2       Montana        3         30            Mountain         MT   \n",
       "3         Maine        4         23         New England         ME   \n",
       "4  North Dakota        5         38  West North Central         ND   \n",
       "\n",
       "                                            geometry  \n",
       "0  MULTIPOLYGON (((-160.07380 22.00418, -160.0497...  \n",
       "1  MULTIPOLYGON (((-122.40202 48.22522, -122.4628...  \n",
       "2  POLYGON ((-111.47543 44.70216, -111.48080 44.6...  \n",
       "3  MULTIPOLYGON (((-69.77728 44.07415, -69.85993 ...  \n",
       "4  POLYGON ((-98.73044 45.93827, -99.00683 45.939...  "
      ]
     },
     "execution_count": 490,
     "metadata": {},
     "output_type": "execute_result"
    }
   ],
   "source": [
    "usa.head()"
   ]
  },
  {
   "cell_type": "code",
   "execution_count": 472,
   "metadata": {},
   "outputs": [
    {
     "data": {
      "text/plain": [
       "<matplotlib.axes._subplots.AxesSubplot at 0x12f72ed50>"
      ]
     },
     "execution_count": 472,
     "metadata": {},
     "output_type": "execute_result"
    },
    {
     "data": {
      "image/png": "[encoded data removed]",
      "text/plain": [
       "<Figure size 432x288 with 1 Axes>"
      ]
     },
     "metadata": {
      "needs_background": "light"
     },
     "output_type": "display_data"
    }
   ],
   "source": [
    "usa_polarities = usa.merge(mean_pol_cases, how='left')\n",
    "usa_polarities.plot()"
   ]
  },
  {
   "cell_type": "code",
   "execution_count": 473,
   "metadata": {},
   "outputs": [
    {
     "data": {
      "text/plain": [
       "<matplotlib.axes._subplots.AxesSubplot at 0x12e23f110>"
      ]
     },
     "execution_count": 473,
     "metadata": {},
     "output_type": "execute_result"
    },
    {
     "data": {
      "image/png": "[encoded data removed]",
      "text/plain": [
       "<Figure size 1080x1080 with 2 Axes>"
      ]
     },
     "metadata": {
      "needs_background": "light"
     },
     "output_type": "display_data"
    }
   ],
   "source": [
    "fig, ax = plt.subplots(1,1, figsize=(15,15))\n",
    "usa_polarities.dropna().plot(column='mean_polarity',ax=ax, legend=True)"
   ]
  },
  {
   "cell_type": "code",
   "execution_count": 549,
   "metadata": {},
   "outputs": [
    {
     "data": {
      "text/plain": [
       "<matplotlib.axes._subplots.AxesSubplot at 0x146131290>"
      ]
     },
     "execution_count": 549,
     "metadata": {},
     "output_type": "execute_result"
    },
    {
     "data": {
      "image/png": "[encoded data removed]",
      "text/plain": [
       "<Figure size 1080x1080 with 2 Axes>"
      ]
     },
     "metadata": {
      "needs_background": "light"
     },
     "output_type": "display_data"
    }
   ],
   "source": [
    "# Taking out outlier (New York) to study other states\n",
    "usa_no_outlier = usa_polarities.drop(16, axis=0)\n",
    "fig, ax = plt.subplots(1,1, figsize=(15,15))\n",
    "usa_no_outlier.dropna().plot(column='mean_polarity',ax=ax, legend=True)"
   ]
  },
  {
   "cell_type": "code",
   "execution_count": 548,
   "metadata": {
    "scrolled": false
   },
   "outputs": [
    {
     "data": {
      "text/plain": [
       "<matplotlib.axes._subplots.AxesSubplot at 0x146e50710>"
      ]
     },
     "execution_count": 548,
     "metadata": {},
     "output_type": "execute_result"
    },
    {
     "data": {
      "image/png": "[encoded data removed]",
      "text/plain": [
       "<Figure size 1080x1080 with 2 Axes>"
      ]
     },
     "metadata": {
      "needs_background": "light"
     },
     "output_type": "display_data"
    }
   ],
   "source": [
    "fig, ax = plt.subplots(1,1, figsize=(15,15))\n",
    "usa_no_outlier.dropna().plot(column='cases',ax=ax, legend=True,cmap='viridis_r')"
   ]
  },
  {
   "cell_type": "markdown",
   "metadata": {},
   "source": [
    "### Computing Correlation Between Number of Coronavirus Cases and Mean Polarity Scores of All Tweets:"
   ]
  },
  {
   "cell_type": "code",
   "execution_count": 535,
   "metadata": {},
   "outputs": [
    {
     "data": {
      "text/plain": [
       "array([[1.09012750e+09, 3.23873783e+03],\n",
       "       [3.23873783e+03, 3.23731999e+00]])"
      ]
     },
     "execution_count": 535,
     "metadata": {},
     "output_type": "execute_result"
    }
   ],
   "source": [
    "# Computing covariance:\n",
    "\n",
    "cases = usa_polarities.dropna()['cases']\n",
    "mean_polarity = usa_polarities.dropna()['mean_polarity']\n",
    "covariance = cov(cases, mean_polarity)\n",
    "covariance"
   ]
  },
  {
   "cell_type": "code",
   "execution_count": 536,
   "metadata": {},
   "outputs": [
    {
     "data": {
      "text/plain": [
       "-0.226606970260943"
      ]
     },
     "execution_count": 536,
     "metadata": {},
     "output_type": "execute_result"
    }
   ],
   "source": [
    "# Computing Pearson's Correlation: (To understand strength of linear relationship between the two datasets)\n",
    "p_corr, _ = pearsonr(cases, mean_polarity)\n",
    "corr"
   ]
  },
  {
   "cell_type": "code",
   "execution_count": 537,
   "metadata": {},
   "outputs": [
    {
     "data": {
      "text/plain": [
       "0.2641898876435696"
      ]
     },
     "execution_count": 537,
     "metadata": {},
     "output_type": "execute_result"
    }
   ],
   "source": [
    "# Computing Spearman's Correlation: (To investigate if there may be a nonlinear relationship)\n",
    "s_corr, _ = spearmanr(cases, mean_polarity)\n",
    "s_corr"
   ]
  },
  {
   "cell_type": "markdown",
   "metadata": {},
   "source": [
    "# Conclusion\n",
    "The distribution of polarity scores of tweets of most categories (i.e. without Asian references, verified/normal user) are generally even.  However, the distribution of tweets with Asian references is more skewed to the left with a negative mean polarity score. This indicates that tweets with Asian references more often has a negative sentiment compared to tweets without Asian references as its mean polarity score was close to neutral but positive (0.212) with a more even distribution around the mean. \n",
    " \n",
    "Due to the limitations described below, we cannot yet conclude the correlation between polarity scores and number of coronavirus cases in each US state. However, we do conclude that a larger dataset and a model to predict polarity scores will make the correlation/lack of correlation more apparent.\n",
    "\n",
    "## Limitations:\n",
    "- Limited to investigating data from Twitter over other social media platforms due to the difficulty of the available APIs (such as Facebook's API). \n",
    "- We could not get a sustained amount of tweets over time due to Twitter's developer account limiting users from retrieving much data\n",
    "- Locations of many tweet are unavailable or invalid. This is caused by users not wanting to share their location  for privacy reasons.\n",
    "- VADER lexicon does not accurately detect the polarity scores of text due to the complications of grammar and cultural context.\n",
    "\n",
    "## Our next steps:\n",
    "- Find the alternative to computing the polarity scores using Vader's SentimentAnalysis to increase the accuracy of our results. We may attempt machine learning to better identify polarity scores of more complicated structures.\n",
    "- Create a time series of changing polarity scores and compare to the spread of coronavirus cases. Use this data to predict future polarity scores.\n",
    "- Reach out to another team (Harvard PhD candidates) to potentially collaborate with them to help with mapping Asian discimmination in the US. \n"
   ]
  },
  {
   "cell_type": "code",
   "execution_count": null,
   "metadata": {},
   "outputs": [],
   "source": []
  }
 ],
 "metadata": {
  "kernelspec": {
   "display_name": "Python 3",
   "language": "python",
   "name": "python3"
  },
  "language_info": {
   "codemirror_mode": {
    "name": "ipython",
    "version": 3
   },
   "file_extension": ".py",
   "mimetype": "text/x-python",
   "name": "python",
   "nbconvert_exporter": "python",
   "pygments_lexer": "ipython3",
   "version": "3.7.4"
  }
 },
 "nbformat": 4,
 "nbformat_minor": 2
}
